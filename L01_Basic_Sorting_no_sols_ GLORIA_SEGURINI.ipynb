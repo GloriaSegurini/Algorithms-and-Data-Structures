{
 "cells": [
  {
   "cell_type": "markdown",
   "metadata": {},
   "source": [
    "## Basic sorting algorithms\n",
    "----"
   ]
  },
  {
   "cell_type": "markdown",
   "metadata": {},
   "source": [
    "### Exercise: Selection Sort\n",
    "Write the function ```SelectionSort(coll)``` that returns a sorted list with the elements in *coll*. \n",
    "You have to implements Selection Sort algorithm."
   ]
  },
  {
   "cell_type": "code",
   "execution_count": 1,
   "metadata": {},
   "outputs": [],
   "source": [
    "##Your implementation goes here\n",
    "def SelectionSort(l):\n",
    "    l_new = []\n",
    "    for num in l:\n",
    "        l_new.append(num)\n",
    "    for i in range (len(l_new)):\n",
    "        min_pos = i\n",
    "        for j in range (i+1, len(l_new)): \n",
    "            if l_new[j]  < l_new[min_pos]:\n",
    "                min_pos = j  #using min_pos, it always takes theta(n^2)\n",
    "        l_new[min_pos], l_new[i]= l_new[i],l_new[min_pos]  #SWAP!\n",
    "               \n",
    "    return l_new"
   ]
  },
  {
   "cell_type": "code",
   "execution_count": 2,
   "metadata": {},
   "outputs": [
    {
     "name": "stdout",
     "output_type": "stream",
     "text": [
      "[0, 1, 2, 3, 4, 5, 6, 7, 8, 9]\n"
     ]
    }
   ],
   "source": [
    "## Check correctdness your implementation!\n",
    "\n",
    "def test_sortedness(my_list):\n",
    "    return my_list == sorted(my_list)\n",
    "\n",
    "my_list = list(range(10))[::-1]\n",
    "\n",
    "print(SelectionSort(my_list))\n",
    "\n",
    "assert test_sortedness( SelectionSort(my_list) ), \"Must be increasing!\""
   ]
  },
  {
   "cell_type": "markdown",
   "metadata": {},
   "source": [
    "### Exercise: Insertion Sort\n",
    "Write the function ```InsertionSort(coll)``` that returns a sorted list with the elements in *coll*. \n",
    "You have to implements Insertion Sort algorithm."
   ]
  },
  {
   "cell_type": "code",
   "execution_count": 3,
   "metadata": {},
   "outputs": [],
   "source": [
    "def InsertionSort(l):\n",
    "    l_new = []\n",
    "    for num in l:\n",
    "        l_new.append(num)\n",
    "    for j in range(1,len(l_new )):                    \n",
    "        elemento = l_new[j]\n",
    "        #print(\"j is: \",j)\n",
    "        i = j-1\n",
    "        while i >=0 and l_new[i] > elemento:  #best case: theta(n), worst: theta(n^2)\n",
    "            l_new[i+1] = l_new[i]\n",
    "            i-=1\n",
    "        l_new[i+1] = elemento\n",
    "    return l_new"
   ]
  },
  {
   "cell_type": "code",
   "execution_count": 4,
   "metadata": {},
   "outputs": [
    {
     "data": {
      "text/plain": [
       "[-32, 1, 2, 3, 4, 4, 5, 7, 8]"
      ]
     },
     "execution_count": 4,
     "metadata": {},
     "output_type": "execute_result"
    }
   ],
   "source": [
    "l = [5,4,2,3,1,7,4,8,-32]\n",
    "InsertionSort(l)"
   ]
  },
  {
   "cell_type": "code",
   "execution_count": 5,
   "metadata": {},
   "outputs": [
    {
     "name": "stdout",
     "output_type": "stream",
     "text": [
      "[0, 1, 2, 3, 4, 5, 6, 7, 8, 9]\n"
     ]
    }
   ],
   "source": [
    "## Check correctdness your implementation!\n",
    "\n",
    "my_list = list(range(10))[::-1]\n",
    "\n",
    "print(InsertionSort(my_list))\n",
    "\n",
    "assert test_sortedness( InsertionSort(my_list) ), \"Must be increasing!\""
   ]
  },
  {
   "cell_type": "markdown",
   "metadata": {},
   "source": [
    "### Comparators\n",
    "\n",
    "You have learned that many sorting are based on comparison. \n",
    "They obtain a ordered sequence by comparing elements. \n",
    "\n",
    "It's often very useful to define our own way to compare elements. Any comparator that implies a total order \n",
    "is a good one. \n",
    "\n",
    "For example, assume you have a list of tuple. Each tuple stores information about a person. \n",
    "If you sort this list, the final ordering is *\"lexicographic\"* one. First we compare the first component, \n",
    "then the second component for tuples with the same first component, and so on.\n",
    " \n",
    "However, you may want impose your own way to order. For example, sort person by name, then increasingly by age, and so on. \n",
    "\n",
    "This is possible by implementing your own comparator and let ```.sort()``` and ```sorted()``` to use it."
   ]
  },
  {
   "cell_type": "markdown",
   "metadata": {},
   "source": [
    "### How? \n",
    "You know that comparison-based algorithms sort a sequence by comparing pairs of elements. \n",
    "Thus, a comparator is a function that takes two elements, say a and b, and compare them.\n",
    "\n",
    "The result of a comparison is a value smaller than $0$, if a must precede b in the ordering. \n",
    "The result is larger than $0$, if b must precede a. The result is $0$, if we do not care."
   ]
  },
  {
   "cell_type": "markdown",
   "metadata": {},
   "source": [
    "For example, we can use the following comparator to sort numbers in reverse order."
   ]
  },
  {
   "cell_type": "code",
   "execution_count": 6,
   "metadata": {},
   "outputs": [],
   "source": [
    "def my_cmp(a, b): \n",
    "    return b-a # a is before if larger that b"
   ]
  },
  {
   "cell_type": "markdown",
   "metadata": {},
   "source": [
    "To use our own comparator with ```.sort()``` and ```sorted()```, we have to use ```functools.cmp_to_key(cmp)```function. This converts our comparator to a function that can be used as a argument for parameter ```key```. \n"
   ]
  },
  {
   "cell_type": "code",
   "execution_count": 7,
   "metadata": {},
   "outputs": [
    {
     "name": "stdout",
     "output_type": "stream",
     "text": [
      "[9, 8, 7, 6, 5, 4, 3, 2, 1, 0]\n"
     ]
    }
   ],
   "source": [
    "import functools\n",
    "\n",
    "print(sorted(list(range(10)), key=functools.cmp_to_key(my_cmp)))"
   ]
  },
  {
   "cell_type": "markdown",
   "metadata": {},
   "source": [
    "\n",
    "------\n",
    "### Exercise: Strange orderings\n",
    "Given a list, write and test comparators to obtain the following orderings:\n",
    "- Even number precede odd ones. Even numbers are sorted in non-decreasing  order while odd ones are sorted in non-increasing order.\n",
    "- Strings are sorted in non-increasing order based on their lengths. Strings having the same length are sorted in non-increasing lexicographic order. "
   ]
  },
  {
   "cell_type": "code",
   "execution_count": 8,
   "metadata": {},
   "outputs": [],
   "source": [
    "my_list = list(range(10))\n",
    "my_list2 = [\"a\", \"b\", \"aba\", \"cad\", \"zzzz\", \"aaaa\"]"
   ]
  },
  {
   "cell_type": "code",
   "execution_count": 27,
   "metadata": {},
   "outputs": [],
   "source": [
    "## Your implementation here!!!\n",
    "def cmp1(a,b):\n",
    "    if a%2 == 0 and b%2 != 0:  #a(pari) must precede b\n",
    "        return -1\n",
    "    if b%2 == 0 and a%2 != 0:  #b must precede a\n",
    "        return 1   \n",
    "    if a%2 == 0 and b%2 == 0:  #both are even (pari) --> if a > b, it goes after\n",
    "        return (a-b) \n",
    "    if a%2 != 0 and b%2 != 0:\n",
    "        return (b-a)\n",
    "    \n",
    "    \n",
    "    \n",
    "    \n",
    "my_list2 = [\"a\", \"b\", \"aba\", \"cad\", \"zzzz\", \"aaaa\"]\n",
    "\n",
    "def cmp2(a,b):\n",
    "    \n",
    "    if len(a) == len(b):\n",
    "        i = 0\n",
    "        while i < len(a):  #non-increasing lexicographic order: c,b,a...\n",
    "            if a[i] > b[i]:\n",
    "                i+=1\n",
    "                return -1  #b before \n",
    "            elif a[i] < b[i]:\n",
    "                i+=1\n",
    "                return 1   #c before a \n",
    "            else:\n",
    "                i+=1   #go on on next letter\n",
    "        \n",
    "        return 0  #when it sorts the loop (words are the same)\n",
    "    elif len(a) > len(b): #non increasing order\n",
    "        return -1\n",
    "    \n",
    "    elif len(b) > len(a):\n",
    "        return 1    "
   ]
  },
  {
   "cell_type": "code",
   "execution_count": 28,
   "metadata": {},
   "outputs": [
    {
     "name": "stdout",
     "output_type": "stream",
     "text": [
      "['casa', 'casa']\n"
     ]
    }
   ],
   "source": [
    "print(sorted(['casa', 'casa'], key = functools.cmp_to_key(cmp2)))"
   ]
  },
  {
   "cell_type": "code",
   "execution_count": 29,
   "metadata": {},
   "outputs": [
    {
     "name": "stdout",
     "output_type": "stream",
     "text": [
      "[0, 2, 4, 6, 8, 9, 7, 5, 3, 1]\n",
      "['zzzz', 'aaaa', 'cad', 'abc', 'aba', 'b', 'a']\n",
      "['zzzz', 'aaaa', 'cad', 'aba', 'b', 'a']\n"
     ]
    }
   ],
   "source": [
    "import functools\n",
    "print(sorted(list(range(10)), key=functools.cmp_to_key(cmp1)))\n",
    "my_list3 =  [\"a\", \"b\", \"aba\", \"cad\",'abc', \"zzzz\", \"aaaa\"]\n",
    "print(sorted(my_list3, key = functools.cmp_to_key(cmp2)))\n",
    "import functools\n",
    "print(sorted(my_list2, key = functools.cmp_to_key(cmp2)))"
   ]
  },
  {
   "cell_type": "markdown",
   "metadata": {},
   "source": [
    "### Exercise: Insertion Sort with a comparator\n",
    "Write the function ```InsertionSort(coll, cmp)``` that returns a sorted list with the elements in *coll* using \n",
    "```cmp```as a comparator."
   ]
  },
  {
   "cell_type": "code",
   "execution_count": 34,
   "metadata": {},
   "outputs": [],
   "source": [
    "#Youf implementation here!!!\n",
    "def my_cmp3(a,b):\n",
    "    if a == b:\n",
    "        return -1\n",
    "    elif a > b:\n",
    "        return 1\n",
    "    else:\n",
    "        return -1\n",
    "    \n",
    "    \n",
    "def InsertionSort(l, cmp):\n",
    "    l_new = []   #a, b, aba, cad...\n",
    "    for num in l:\n",
    "        l_new.append(num)\n",
    "    for j in range(1,len(l_new )):                    \n",
    "        elemento = l_new[j]   #es. 'cad'\n",
    "        i = j-1               #es. 'aba'\n",
    "        while i >=0 and (cmp(l_new[i], elemento) > 0): #sta prendendo \n",
    "            #'aba', 'cad' --> risultato = 1, poiché 'c' > 'a'\n",
    "            l_new[i+1] = l_new[i]  #ordine inverso lessicografico: 'cad', 'aba'\n",
    "            #print(l_new)\n",
    "            i-=1\n",
    "        #print('here')\n",
    "        l_new[i+1] = elemento\n",
    "    return l_new"
   ]
  },
  {
   "cell_type": "code",
   "execution_count": 13,
   "metadata": {},
   "outputs": [
    {
     "data": {
      "text/plain": [
       "[0, 1, 3, 6, 7]"
      ]
     },
     "execution_count": 13,
     "metadata": {},
     "output_type": "execute_result"
    }
   ],
   "source": [
    "InsertionSort([1,6,3,7,0], my_cmp3)"
   ]
  },
  {
   "cell_type": "code",
   "execution_count": 24,
   "metadata": {},
   "outputs": [
    {
     "data": {
      "text/plain": [
       "['a', 'b', 'aba', 'cad', 'zzzz', 'aaaa']"
      ]
     },
     "execution_count": 24,
     "metadata": {},
     "output_type": "execute_result"
    }
   ],
   "source": [
    "my_list2"
   ]
  },
  {
   "cell_type": "code",
   "execution_count": 33,
   "metadata": {},
   "outputs": [
    {
     "name": "stdout",
     "output_type": "stream",
     "text": [
      "['a', 'a', 'aba', 'cad', 'zzzz', 'aaaa']\n",
      "here\n",
      "['b', 'a', 'a', 'cad', 'zzzz', 'aaaa']\n",
      "['b', 'b', 'a', 'cad', 'zzzz', 'aaaa']\n",
      "here\n",
      "['aba', 'b', 'a', 'a', 'zzzz', 'aaaa']\n",
      "['aba', 'b', 'b', 'a', 'zzzz', 'aaaa']\n",
      "['aba', 'aba', 'b', 'a', 'zzzz', 'aaaa']\n",
      "here\n",
      "['cad', 'aba', 'b', 'a', 'a', 'aaaa']\n",
      "['cad', 'aba', 'b', 'b', 'a', 'aaaa']\n",
      "['cad', 'aba', 'aba', 'b', 'a', 'aaaa']\n",
      "['cad', 'cad', 'aba', 'b', 'a', 'aaaa']\n",
      "here\n",
      "['zzzz', 'cad', 'aba', 'b', 'a', 'a']\n",
      "['zzzz', 'cad', 'aba', 'b', 'b', 'a']\n",
      "['zzzz', 'cad', 'aba', 'aba', 'b', 'a']\n",
      "['zzzz', 'cad', 'cad', 'aba', 'b', 'a']\n",
      "here\n"
     ]
    },
    {
     "data": {
      "text/plain": [
       "['zzzz', 'aaaa', 'cad', 'aba', 'b', 'a']"
      ]
     },
     "execution_count": 33,
     "metadata": {},
     "output_type": "execute_result"
    }
   ],
   "source": [
    "InsertionSort(my_list2, cmp2)"
   ]
  },
  {
   "cell_type": "code",
   "execution_count": 19,
   "metadata": {},
   "outputs": [],
   "source": [
    "## Test here your implementation by using comparators from previous exercise.\n",
    "\n",
    "def test_sortedness(my_list, cmp):\n",
    "    return InsertionSort(my_list, cmp) == sorted(my_list, key = functools.cmp_to_key(cmp))\n",
    "\n",
    "assert test_sortedness(my_list, cmp1), \"Must be sorted\"\n",
    "assert test_sortedness(my_list2, cmp2), \"Must be sorted\""
   ]
  },
  {
   "cell_type": "markdown",
   "metadata": {},
   "source": [
    "-----\n",
    "\n",
    "### Exercise: Intersection of two lists\n",
    "Write a function ```intersection_slow(l1, l2)``` which returns the intersection of the two lists l1 and l2.\n",
    "\n",
    "Use the trivial algorithms that runs in $\\Theta(|l1|\\times|l2|)$. "
   ]
  },
  {
   "cell_type": "code",
   "execution_count": 18,
   "metadata": {},
   "outputs": [],
   "source": [
    "#Your implementation here!!!\n",
    "def intersection_slow(l1, l2):\n",
    "    l3 = []\n",
    "    for i in range(len(l1)):\n",
    "        for j in range(len(l2)):  #n*n\n",
    "            if l1[i] == l2[j]:\n",
    "                l3.append(l1[i])\n",
    "    return l3  "
   ]
  },
  {
   "cell_type": "code",
   "execution_count": 27,
   "metadata": {},
   "outputs": [],
   "source": [
    "## Test here your implementation \n",
    "\n",
    "l1 = [3, 5, 1, 2]\n",
    "l2 = [1, 4, 6, 2]\n",
    "\n",
    "assert set(intersection_slow(l1, l2)) == set([1, 2]), \"Urca\""
   ]
  },
  {
   "cell_type": "markdown",
   "metadata": {},
   "source": [
    "----\n",
    "### Exercise: Faster intersection of two lists\n",
    "Write a function ```intersection(l1, l2)``` which returns the intersection of the two lists l1 and l2.\n",
    "\n",
    "Assume that both l1 and l2 are sorted!"
   ]
  },
  {
   "cell_type": "code",
   "execution_count": 1,
   "metadata": {},
   "outputs": [],
   "source": [
    "\n",
    "def intersection(l1,l2):\n",
    "    l1_pointer = 0\n",
    "    l2_pointer = 0\n",
    "    l3 = []\n",
    "    while l1_pointer < len(l1) and l2_pointer < len(l2):\n",
    "        if l1[l1_pointer] == l2[l2_pointer]:\n",
    "            #print(l1_pointer)\n",
    "            l3.append(l1[l1_pointer])\n",
    "            l1_pointer+=1\n",
    "            l2_pointer+=1\n",
    "            continue\n",
    "            \n",
    "        if l1[l1_pointer] < l2[l2_pointer]:\n",
    "            l1_pointer+=1\n",
    "           \n",
    "        else:\n",
    "            l2_pointer+=1\n",
    "            \n",
    "    return l3"
   ]
  },
  {
   "cell_type": "code",
   "execution_count": 2,
   "metadata": {},
   "outputs": [
    {
     "data": {
      "text/plain": [
       "[8, 15]"
      ]
     },
     "execution_count": 2,
     "metadata": {},
     "output_type": "execute_result"
    }
   ],
   "source": [
    "intersection([8,10,11,15],[1,5,8,9,15])"
   ]
  },
  {
   "cell_type": "code",
   "execution_count": 39,
   "metadata": {},
   "outputs": [],
   "source": [
    "## Test here your implementation \n",
    "\n",
    "l1 = sorted([3, 5, 1, 2])\n",
    "l2 = sorted([1, 4, 6, 2])\n",
    "\n",
    "assert set(intersection(l1, l2)) == set([1, 2]), \"Urca\""
   ]
  },
  {
   "cell_type": "markdown",
   "metadata": {},
   "source": [
    "----\n",
    "### Exercise: You own search engine\n",
    "You are given a collection of texts and you want to build your own search engine, people at Google are already very scared!\n",
    "\n",
    "Modern search engines are based on a data structure called *Inverted Index*. \n",
    "\n",
    "Each document of the collection is assigned an identifier, starting from 0.\n",
    "An inverted index stores a list, called *inverted list*, for each term of the collection.\n",
    "The list for a term *t* contains the identifiers of all the documents containing term *t*. The list is sorted.\n",
    "\n",
    "For example,\n",
    "\n",
    "````\n",
    "C = [\"dog cat elephant monkey\",  \"dog lion tiger\", \"fish dog dog cat cow\"]\n",
    "\n",
    "````\n",
    "\n",
    "The list of term *cat* is [0,2], the list of *elephant* is [0].\n",
    "\n",
    "Given two terms, an AND query reports all the documents containing both terms. For example, \n",
    "*query(\"cat\", \"dog\"), the result is [0, 2].\n",
    "\n",
    "You goal is to implement a simple search engine. Do the following. \n",
    "\n",
    "- Given the collection, build a dictionary that maps each term to its inverted list. Observe that \n",
    "each document occurs at most once in each list. \n",
    "- Implement a function *query* which answers an AND query. "
   ]
  },
  {
   "cell_type": "code",
   "execution_count": 36,
   "metadata": {},
   "outputs": [],
   "source": [
    "## Your implementation here!!!\n",
    "\n",
    "def build_index(C):\n",
    "    index = {}\n",
    "    for pos,elem in enumerate(C):  \n",
    "        for term in set(elem.split()): #access to single DIFFERENT elements, ex 'dog'\n",
    "            if term not in index:\n",
    "                index[term] = []  #storing: ex. 'dog' = []\n",
    "                #print(index)\n",
    "            index[term].append(pos)  #ex. 'dog' = [0]\n",
    "    return index         \n",
    "\n",
    "#index stores all the indexes of C[elements] in which it can be found\n",
    "\n",
    "def query(index, t1, t2):\n",
    "    l1 = []\n",
    "    l2 = []\n",
    "    if t1 in index and t2 in index:\n",
    "        l1 = index[t1]  #[0,1,2]\n",
    "        l2 = index[t2]  #[0,2]\n",
    "    return (intersection(l1, l1))  #intersection of the list of indexes\n",
    "#ex. 'dog' can be found in 0,1,2 and 'cat' in 0,2 --> inters. is [0,2]"
   ]
  },
  {
   "cell_type": "code",
   "execution_count": 37,
   "metadata": {},
   "outputs": [],
   "source": [
    "## Test here your implementation \n",
    "\n",
    "C = [\"dog cat elephant monkey\",  \"dog lion tiger\", \"fish dog dog cat cow\"]\n",
    "\n",
    "index = build_index(C)\n",
    "assert query(index, \"cat\", \"dog\") == [0, 2], \"Urca\""
   ]
  },
  {
   "cell_type": "code",
   "execution_count": null,
   "metadata": {},
   "outputs": [],
   "source": []
  }
 ],
 "metadata": {
  "kernelspec": {
   "display_name": "Python 3",
   "language": "python",
   "name": "python3"
  },
  "language_info": {
   "codemirror_mode": {
    "name": "ipython",
    "version": 3
   },
   "file_extension": ".py",
   "mimetype": "text/x-python",
   "name": "python",
   "nbconvert_exporter": "python",
   "pygments_lexer": "ipython3",
   "version": "3.8.3"
  }
 },
 "nbformat": 4,
 "nbformat_minor": 2
}
