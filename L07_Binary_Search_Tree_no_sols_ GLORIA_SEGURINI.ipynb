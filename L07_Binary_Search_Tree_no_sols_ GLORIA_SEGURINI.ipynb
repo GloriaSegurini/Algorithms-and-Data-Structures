{
 "cells": [
  {
   "cell_type": "markdown",
   "metadata": {},
   "source": [
    "# Binary Search Tree"
   ]
  },
  {
   "cell_type": "code",
   "execution_count": 11,
   "metadata": {},
   "outputs": [],
   "source": [
    "## Define some function useful for testing\n",
    "import random\n",
    "\n",
    "## generate an array of n random integers up to b\n",
    "def get_random_array(n, b = 50):\n",
    "    return [random.randint(0, b) for _ in range(n)]"
   ]
  },
  {
   "cell_type": "markdown",
   "metadata": {},
   "source": [
    "Hashing-based data structures are efficient solutions to index a set of keys providing three operations:\n",
    "- Insert a new key in the set\n",
    "- Delete a key from the set\n",
    "- Search a key in the set (and return its associated value.\n",
    "\n",
    "Binary Search Tree (BST) extends the set of operations with more ones.\n",
    "\n",
    "- Min/max keys in the set\n",
    "- Predecessor of a value, i.e., largest key in the set which is smaller than the given one\n",
    "- Successor of a value, i.e., smallest key in the set which is greater than the given one\n",
    "\n",
    "Implementing the above operations gives a **sorted map**.\n",
    "\n",
    "\n",
    "Notice that if the set would be **static** (i.e., no insert and delete) the problem can be easily solved with \n",
    "binary search on a sorted array. This is the goal of the first exercise. "
   ]
  },
  {
   "cell_type": "markdown",
   "metadata": {},
   "source": [
    "---\n",
    "### Exercise: Static sorted map\n",
    "Complete and test the implementation below. You have to use binary search to solve predecessor and successor queries on a sorted array."
   ]
  },
  {
   "cell_type": "code",
   "execution_count": 20,
   "metadata": {},
   "outputs": [],
   "source": [
    "class StaticSortedMap:\n",
    "    def __init__(self, A):\n",
    "        self.sorted_map = A[:] # copy input array\n",
    "    def min(self):\n",
    "        # TODO\n",
    "        return self.sorted_map[0]\n",
    "    \n",
    "    def max(self):\n",
    "        # TODO\n",
    "        return self.sorted_map[len(self.sorted_map)-1]\n",
    "\n",
    "    def search(self, key):\n",
    "        # TODO\n",
    "            # If the key is in the set, returns  True, p  where p is the position \n",
    "        # of the key in the array.\n",
    "        # # If the key is not in the set, returns False, p where p is the position where \n",
    "        # the key should be inserted to keep the array sorted.\n",
    "        #\n",
    "        # Implements binary search!\n",
    "        def __binary_search(self, L, R, key): #1 2 5 7, binary search takes theta(log(n))\n",
    "            mid = (L+R)//2\n",
    "            if R >= L:\n",
    "                mid = (L+R)//2\n",
    "            \n",
    "                if self.sorted_map[mid] == key:\n",
    "                    return True, mid, 'is element\\'s position' \n",
    "            \n",
    "                elif self.sorted_map[mid] > key:\n",
    "                    return __binary_search(self, L, mid-1, key)\n",
    "            \n",
    "                elif self.sorted_map[mid] < key:\n",
    "                    return __binary_search( self, mid+1, R, key)\n",
    "                \n",
    "            else:\n",
    "                return False, mid+1, 'is position where element should be'\n",
    "            \n",
    "        return __binary_search(self, 0, len(self.sorted_map)-1, key)\n",
    "            \n",
    "            \n",
    "    \n",
    "    def predecessor(self, key): #in BST: min in right subtree\n",
    "        # TODO: return position and value of predecessor. You may want use search query to solve this one.\n",
    "        result, pos, string = self.search(key)\n",
    "        if pos == 0: #sono all'inizio della lista\n",
    "            return None\n",
    "        if result == True:\n",
    "            return pos-1, self.sorted_map[pos-1]\n",
    "        elif result == False:\n",
    "            return  pos-1, self.sorted_map[pos-1]  #result of where it SHOULD be\n",
    "       # return self.sorted_map[pos-1]   #pred\n",
    "    \n",
    "    def successor(self, key):\n",
    "        # TODO: return position and value of successor. You may want use search query to solve this one.\n",
    "        result, pos, string = self.search(key)\n",
    "        if pos >= len(self.sorted_map)-1:  #> bc of elements not found with Search (that returns position where element should be)\n",
    "            return None\n",
    "        if result == True:\n",
    "            return pos+1, self.sorted_map[pos+1]\n",
    "        elif result == False:\n",
    "            return  pos+1, self.sorted_map[pos+1]  #result of where it SHOULD be if element was found\n",
    "        #return self.sorted_map[pos+1]   #succ"
   ]
  },
  {
   "cell_type": "code",
   "execution_count": 39,
   "metadata": {},
   "outputs": [
    {
     "name": "stdout",
     "output_type": "stream",
     "text": [
      "-----------------\n",
      "(False, 3, 'is position where element should be')\n",
      "(False, 3, 'is position where element should be')\n",
      "(False, 3, 'is position where element should be')\n",
      "(False, 4, 'is position where element should be')\n",
      "-----------------\n",
      "(1, 1)\n",
      "(2, 1)\n",
      "(4, 17)\n",
      "-----------------\n",
      "(3, 15)\n",
      "(4, 17)\n",
      "(8, 43)\n"
     ]
    }
   ],
   "source": [
    "## Test your implementation here (da qui in poi)\n",
    "lista = [0, 1, 1, 15, 17, 29, 30, 39, 43, 45]\n",
    "Map = StaticSortedMap(sorted(lista))\n",
    "print('-----------------')\n",
    "print(Map.search(2))  #3\n",
    "print(Map.search(3))  #3\n",
    "print(Map.search(4))   #3\n",
    "print(Map.search(16)) \n",
    "print('-----------------')\n",
    "print(Map.successor(0))\n",
    "print(Map.successor(1))\n",
    "print(Map.successor(15))\n",
    "print('-----------------')\n",
    "print(Map.predecessor(17))\n",
    "print(Map.predecessor(29))\n",
    "print(Map.predecessor(45))"
   ]
  },
  {
   "cell_type": "code",
   "execution_count": 21,
   "metadata": {},
   "outputs": [],
   "source": [
    "listt = [4,8,12,91,97,102,103]\n",
    "MM = StaticSortedMap(sorted(listt))"
   ]
  },
  {
   "cell_type": "code",
   "execution_count": 22,
   "metadata": {},
   "outputs": [
    {
     "data": {
      "text/plain": [
       "(False, 0, 'is position where element should be')"
      ]
     },
     "execution_count": 22,
     "metadata": {},
     "output_type": "execute_result"
    }
   ],
   "source": [
    "MM.search(3)"
   ]
  },
  {
   "cell_type": "code",
   "execution_count": 23,
   "metadata": {},
   "outputs": [],
   "source": [
    "MM.predecessor(3)"
   ]
  },
  {
   "cell_type": "code",
   "execution_count": 24,
   "metadata": {},
   "outputs": [
    {
     "data": {
      "text/plain": [
       "(False, 3, 'is position where element should be')"
      ]
     },
     "execution_count": 24,
     "metadata": {},
     "output_type": "execute_result"
    }
   ],
   "source": [
    "MM.search(13)"
   ]
  },
  {
   "cell_type": "code",
   "execution_count": 27,
   "metadata": {},
   "outputs": [
    {
     "name": "stdout",
     "output_type": "stream",
     "text": [
      "(5, 102)\n",
      "(False, 4, 'is position where element should be')\n"
     ]
    }
   ],
   "source": [
    "print(MM.successor(96))  #96 si troverebbe al posto di 97 \n",
    "#e avrebbe quindi il suo stesso successor\n",
    "print(MM.search(96))"
   ]
  },
  {
   "cell_type": "code",
   "execution_count": 28,
   "metadata": {},
   "outputs": [
    {
     "data": {
      "text/plain": [
       "(3, 91)"
      ]
     },
     "execution_count": 28,
     "metadata": {},
     "output_type": "execute_result"
    }
   ],
   "source": [
    "MM.predecessor(96)"
   ]
  },
  {
   "cell_type": "code",
   "execution_count": 29,
   "metadata": {},
   "outputs": [],
   "source": [
    "lista = [0, 1, 1, 15, 17, 29, 30, 39, 43, 45]\n",
    "Map = StaticSortedMap(sorted(lista))"
   ]
  },
  {
   "cell_type": "code",
   "execution_count": 46,
   "metadata": {},
   "outputs": [
    {
     "name": "stdout",
     "output_type": "stream",
     "text": [
      "(False, 3, 'is position where element should be')\n",
      "(False, 3, 'is position where element should be')\n",
      "(False, 3, 'is position where element should be')\n",
      "(False, 4, 'is position where element should be')\n",
      "(False, 7, 'is position where element should be')\n",
      "(False, 10, 'is position where element should be')\n",
      "(False, 9, 'is position where element should be')\n"
     ]
    }
   ],
   "source": [
    "prova = [2,3,4,16,31,48,44]\n",
    "for e in prova:\n",
    "    print( Map.search(e))\n",
    "    assert Map.search(e)[0] == False, 'Error'"
   ]
  },
  {
   "cell_type": "code",
   "execution_count": 47,
   "metadata": {},
   "outputs": [
    {
     "name": "stdout",
     "output_type": "stream",
     "text": [
      "(1, 1)\n",
      "(2, 1)\n",
      "(4, 17)\n",
      "(7, 39)\n",
      "None\n"
     ]
    }
   ],
   "source": [
    "print(Map.successor(0))\n",
    "print(Map.successor(1))\n",
    "print(Map.successor(15))\n",
    "print(Map.successor(30))\n",
    "print(Map.successor(45))"
   ]
  },
  {
   "cell_type": "code",
   "execution_count": 48,
   "metadata": {},
   "outputs": [
    {
     "name": "stdout",
     "output_type": "stream",
     "text": [
      "None\n",
      "(0, 0)\n",
      "(3, 15)\n",
      "(4, 17)\n",
      "(8, 43)\n"
     ]
    }
   ],
   "source": [
    "print(Map.predecessor(0))\n",
    "print(Map.predecessor(1))\n",
    "print(Map.predecessor(17))\n",
    "print(Map.predecessor(29))\n",
    "print(Map.predecessor(45))"
   ]
  },
  {
   "cell_type": "markdown",
   "metadata": {},
   "source": [
    "---\n",
    "## Sorted map with Binary Search Tree"
   ]
  },
  {
   "cell_type": "code",
   "execution_count": 32,
   "metadata": {},
   "outputs": [],
   "source": [
    "class BinarySearchTree:\n",
    "    # This is a Node class that is internal to the BinarySearchTree class\n",
    "    class __Node:\n",
    "        def __init__(self, val, left=None, right=None):\n",
    "            self.val = val\n",
    "            self.left = left\n",
    "            self.right = right\n",
    "            \n",
    "        def getVal(self): #safety: I want the object to remain in consistend state\n",
    "            return self.val\n",
    "\n",
    "        def setVal(self,newval): \n",
    "            self.val = newval\n",
    "            \n",
    "        def getLeft(self): \n",
    "            return self.left\n",
    "        \n",
    "        def getRight(self): \n",
    "            return self.right\n",
    "        \n",
    "        def setLeft(self,newleft): \n",
    "            self.left = newleft\n",
    "        \n",
    "        def setRight(self,newright): \n",
    "            self.right = newright\n",
    "            \n",
    "        # This method deserves a little explanation. It does an inorder traversal\n",
    "        # of the nodes of the tree yielding all the values. In this way, we get\n",
    "        # the values in ascending order.       \n",
    "        def __iter__(self):\n",
    "            if self.left != None:\n",
    "                for elem in self.left: \n",
    "                    yield elem\n",
    "            yield self.val\n",
    "            if self.right != None:\n",
    "                for elem in self.right:\n",
    "                    yield elem\n",
    "                    \n",
    "    # Below methods of the BinarySearchTree class.\n",
    "    def __init__(self): \n",
    "        self.root = None\n",
    "         \n",
    "    def insert(self, val):   \n",
    "        # The __insert function is recursive and is not a passed a self parameter. It is a # static function (not a method of the class) but is hidden inside the insert\n",
    "        # function so users of the class will not know it exists.\n",
    "        def __insert(root, val): #__ means usefully internally but not that much outside if you're just a user\n",
    "            if root == None:\n",
    "                return BinarySearchTree.__Node(val)\n",
    "            if val < root.getVal(): \n",
    "                root.setLeft(__insert(root.getLeft(), val))\n",
    "            else: \n",
    "                root.setRight(__insert(root.getRight(), val))\n",
    "            return root\n",
    "        \n",
    "        self.root = __insert(self.root, val)"
   ]
  },
  {
   "cell_type": "code",
   "execution_count": 33,
   "metadata": {},
   "outputs": [
    {
     "name": "stdout",
     "output_type": "stream",
     "text": [
      "[0, 0, 0, 1, 1, 1, 1, 2, 2, 3]\n",
      "['aaa', 'ciao', 'zzz', 'zzzW']\n"
     ]
    }
   ],
   "source": [
    "a = get_random_array(100)\n",
    "\n",
    "bst = BinarySearchTree()\n",
    "\n",
    "for x in a: \n",
    "    bst.insert(x)\n",
    "\n",
    "print([x for x in bst.root][:10])\n",
    "    \n",
    "assert [x for x in bst.root] == sorted(a), \"FAIL insert!\"\n",
    "\n",
    "\n",
    "## It works with strings as well\n",
    "\n",
    "a = [\"ciao\", \"aaa\", \"zzz\", \"zzzW\"]\n",
    "\n",
    "bst_strings = BinarySearchTree()\n",
    "\n",
    "for string in a:\n",
    "    bst_strings.insert(string)\n",
    "\n",
    "print([x for x in bst_strings.root])\n",
    "\n",
    "assert [x for x in bst_strings.root] == sorted(a), \"FAIL!\""
   ]
  },
  {
   "cell_type": "markdown",
   "metadata": {},
   "source": [
    "### Exercise: \n",
    "Extend the previous implementation to support **search(x)** operation. Test your implementation."
   ]
  },
  {
   "cell_type": "code",
   "execution_count": 63,
   "metadata": {},
   "outputs": [],
   "source": [
    "class BinarySearchTree:\n",
    "    # This is a Node class that is internal to the BinarySearchTree class\n",
    "    class __Node:\n",
    "        def __init__(self, val, left=None, right=None):\n",
    "            self.val = val\n",
    "            self.left = left\n",
    "            self.right = right\n",
    "            \n",
    "        def getVal(self): #safety: I want the object to remain in consistend state\n",
    "            return self.val\n",
    "\n",
    "        def setVal(self,newval): \n",
    "            self.val = newval\n",
    "            \n",
    "        def getLeft(self): \n",
    "            return self.left\n",
    "        \n",
    "        def getRight(self): \n",
    "            return self.right\n",
    "        \n",
    "        def setLeft(self,newleft): \n",
    "            self.left = newleft\n",
    "        \n",
    "        def setRight(self,newright): \n",
    "            self.right = newright\n",
    "            \n",
    "        # This method deserves a little explanation. It does an inorder traversal\n",
    "        # of the nodes of the tree yielding all the values. In this way, we get\n",
    "        # the values in ascending order.       \n",
    "        def __iter__(self):\n",
    "            if self.left != None:\n",
    "                for elem in self.left: \n",
    "                    yield elem\n",
    "            yield self.val\n",
    "            if self.right != None:\n",
    "                for elem in self.right:\n",
    "                    yield elem\n",
    "                    \n",
    "    # Below methods of the BinarySearchTree class.\n",
    "    def __init__(self): \n",
    "        self.root = None\n",
    "         \n",
    "    def insert(self, val):   \n",
    "        # The __insert function is recursive and is not a passed a self parameter. It is a # static function (not a method of the class) but is hidden inside the insert\n",
    "        # function so users of the class will not know it exists.\n",
    "        def __insert(root, val): #__ means usefully internally but not that much outside if you're just a user\n",
    "            if root == None:\n",
    "                return BinarySearchTree.__Node(val)\n",
    "            if val < root.getVal(): \n",
    "                root.setLeft(__insert(root.getLeft(), val))\n",
    "            else: \n",
    "                root.setRight(__insert(root.getRight(), val))\n",
    "            return root\n",
    "        \n",
    "    \n",
    "        \n",
    "        self.root = __insert(self.root, val)\n",
    "        \n",
    "        \n",
    "        \n",
    "        \n",
    "    # Your implementation goes here\n",
    "    def search(self,val):\n",
    "        def __search(root, val):\n",
    "               \n",
    "            if root is None:\n",
    "                return False, None\n",
    "        \n",
    "            if root.getVal() == val:\n",
    "                return True, root\n",
    " \n",
    "   \n",
    "            if root.getVal() < val: #if the value I found is < than the value I'm looking for: go Right \n",
    "                return __search(root.getRight(),val)\n",
    "        \n",
    "            if root.getVal() > val:\n",
    "                return __search(root.getLeft(), val)\n",
    "   \n",
    "  \n",
    "        return __search(self.root,val)"
   ]
  },
  {
   "cell_type": "code",
   "execution_count": 67,
   "metadata": {},
   "outputs": [
    {
     "name": "stdout",
     "output_type": "stream",
     "text": [
      "[30, 47, 26, 13, 43, 11, 9, 26, 44, 27, 40, 7, 40, 30, 49, 14, 19, 15, 29, 1, 32, 31, 50, 22, 39, 39, 6, 41, 12, 22, 4, 41, 30, 37, 3, 17, 39, 12, 36, 35, 50, 1, 33, 18, 46, 27, 21, 15, 27, 12, 11, 2, 14, 40, 50, 11, 15, 7, 14, 36, 8, 19, 50, 23, 7, 39, 40, 30, 6, 28, 29, 24, 46, 44, 27, 38, 30, 47, 16, 40, 22, 11, 31, 37, 32, 26, 35, 28, 20, 8, 41, 17, 47, 7, 10, 21, 0, 43, 9, 17]\n"
     ]
    }
   ],
   "source": [
    "# Test your implementation here\n",
    "a = get_random_array(100)\n",
    "\n",
    "bst = BinarySearchTree()\n",
    "\n",
    "for x in a: \n",
    "    bst.insert(x)\n",
    "\n",
    "print(a)"
   ]
  },
  {
   "cell_type": "code",
   "execution_count": 69,
   "metadata": {},
   "outputs": [],
   "source": [
    "for key in a:\n",
    "    assert bst.search(key)[0] ==True, 'fail'"
   ]
  },
  {
   "cell_type": "code",
   "execution_count": 71,
   "metadata": {},
   "outputs": [
    {
     "name": "stdout",
     "output_type": "stream",
     "text": [
      "[30, 13, 5, 45, 31, 9, 20, 34, 35, 1]\n"
     ]
    }
   ],
   "source": [
    "a = get_random_array(10)\n",
    "print(a)\n",
    "bst = BinarySearchTree()\n",
    "for x in a: \n",
    "    bst.insert(x)"
   ]
  },
  {
   "cell_type": "code",
   "execution_count": 72,
   "metadata": {},
   "outputs": [
    {
     "data": {
      "text/plain": [
       "(False, None)"
      ]
     },
     "execution_count": 72,
     "metadata": {},
     "output_type": "execute_result"
    }
   ],
   "source": [
    "bst.search(47)"
   ]
  },
  {
   "cell_type": "code",
   "execution_count": 73,
   "metadata": {},
   "outputs": [
    {
     "data": {
      "text/plain": [
       "(False, None)"
      ]
     },
     "execution_count": 73,
     "metadata": {},
     "output_type": "execute_result"
    }
   ],
   "source": [
    "bst.search(41)"
   ]
  },
  {
   "cell_type": "code",
   "execution_count": 74,
   "metadata": {},
   "outputs": [
    {
     "data": {
      "text/plain": [
       "(True, <__main__.BinarySearchTree.__Node at 0x25ca9cce040>)"
      ]
     },
     "execution_count": 74,
     "metadata": {},
     "output_type": "execute_result"
    }
   ],
   "source": [
    "bst.search(31)"
   ]
  },
  {
   "cell_type": "code",
   "execution_count": 75,
   "metadata": {},
   "outputs": [
    {
     "data": {
      "text/plain": [
       "(True, <__main__.BinarySearchTree.__Node at 0x25ca9c11700>)"
      ]
     },
     "execution_count": 75,
     "metadata": {},
     "output_type": "execute_result"
    }
   ],
   "source": [
    "bst.search(30)"
   ]
  },
  {
   "cell_type": "code",
   "execution_count": null,
   "metadata": {},
   "outputs": [],
   "source": []
  }
 ],
 "metadata": {
  "kernelspec": {
   "display_name": "Python 3",
   "language": "python",
   "name": "python3"
  },
  "language_info": {
   "codemirror_mode": {
    "name": "ipython",
    "version": 3
   },
   "file_extension": ".py",
   "mimetype": "text/x-python",
   "name": "python",
   "nbconvert_exporter": "python",
   "pygments_lexer": "ipython3",
   "version": "3.8.3"
  }
 },
 "nbformat": 4,
 "nbformat_minor": 4
}
