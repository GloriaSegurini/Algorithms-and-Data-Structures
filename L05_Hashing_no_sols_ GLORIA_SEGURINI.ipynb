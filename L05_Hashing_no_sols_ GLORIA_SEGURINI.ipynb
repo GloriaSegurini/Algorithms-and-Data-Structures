{
 "cells": [
  {
   "cell_type": "markdown",
   "metadata": {},
   "source": [
    "## Hashing"
   ]
  },
  {
   "cell_type": "code",
   "execution_count": 5,
   "metadata": {},
   "outputs": [],
   "source": [
    "## Define some function useful for testing\n",
    "import random\n",
    "\n",
    "## generate an array of n random integers up to b\n",
    "def get_random_array(n, b = 50):\n",
    "    return [random.randint(0, b) for _ in range(n)]"
   ]
  },
  {
   "cell_type": "markdown",
   "metadata": {},
   "source": [
    "---\n",
    "\n",
    "### Open Addressing with linear probing\n",
    "\n",
    "[Open addressing](https://en.wikipedia.org/wiki/Open_addressing) is a collision resolution technique used for handling collisions in hashing. \n",
    "\n",
    "All the items are stored in a table of size $\\alpha n$, where $n$ is the number of keys and $\\alpha > 1$ is the load factor.\n",
    "\n",
    "Initially, the table contains only a special value ```None``` which says that the entry is empty. Another \n",
    "special value, say character ```'D'``` is used to mark a entry that contained a key that has been deleted.\n",
    "\n",
    "A hash functon $h()$ is used to specify the order of entries to probe for a key to be inserted/searched/deleted. \n",
    "We start by probing $h(k)$ and, with linear probing, the sequence of probes $S(k)$ is $h(k), h(k)+1, h(k)+2, \\ldots$ , modulo $\\alpha n$.\n",
    "\n",
    "- **Insert** adds the key in the first empty slot that we found with positions in $S(k)$.\n",
    "- **Lookup** is performed by checking positions in $S(k)$ until we find either the key or ```None```.\n",
    "- **Delete** is performed by first sesrching the key and then by replacing it with ```'D'```. Why don't we use ```None``` instead? \n",
    "\n",
    "\n",
    "![alt text](LinearProbing.jpg \"Example\")"
   ]
  },
  {
   "cell_type": "markdown",
   "metadata": {},
   "source": [
    "### Exercise: Open Addressing with linear probing\n",
    "Complete the implementation below by implementing ```Lookup```and ```Delete```.\n",
    "\n",
    "\n",
    "**Optional:** Try to implement quadratic probing. This is the technique employed by Python's set and dictionary.  "
   ]
  },
  {
   "cell_type": "code",
   "execution_count": 6,
   "metadata": {},
   "outputs": [],
   "source": [
    "## Your implementation goes here\n",
    "\n",
    "#OPEN ADDRESSING with linear probing uses the following hash function:\n",
    "#h(k,i) = ((h'(k) + i) % m)\n",
    "\n",
    "class linear_probing_set:\n",
    "    def __init__(self, size):\n",
    "        \n",
    "        self.T = [None]*size\n",
    "        self.prime = 993319\n",
    "        #a,b,prime must be fixed\n",
    "        self.a = random.randint(2, self.prime-1)\n",
    "        self.b = random.randint(2, self.prime-1)\n",
    "        self.n_keys = 0  #n of already inserted keys\n",
    "        \n",
    "    def insert(self, key):\n",
    "        if len(self.T) < self.n_keys:\n",
    "            raise ('Full Table')\n",
    "        if self.lookup(key): #check if key is already in the table. If yes: exit\n",
    "            return\n",
    "        #this takes more time than other loop: it skips 'D'\n",
    "        #lookup must reach the first none, while insertion stops at first 'D'\n",
    "        #could merge the two fieces of code together\n",
    "        h = self.hash(key)\n",
    "        while self.T[h] != None and self.T[h] != 'D':#look for empty entry\n",
    "                h += 1\n",
    "                if h == len(self.T):\n",
    "                    h = 0\n",
    "        self.T[h] = key\n",
    "        self.n_keys += 1\n",
    "    \n",
    "    # Return True (not the key itself) if key is in the set, False otherwise\n",
    "    def lookup(self, key):\n",
    "        # TODO\n",
    "        h = (self.hash(key))  #hash function\n",
    "        #sia perché mi basta fare la hash function +i = +1 ogni volta\n",
    "        count = 0             #probes\n",
    "        while  self.T[h] != None:\n",
    "            if self.T[h] == key:\n",
    "                return True\n",
    "            h+=1  #increment the probe, if current slot is occupied\n",
    "            count+=1\n",
    "            \n",
    "            # toglierei tutta questa roba\n",
    "            if h == len(self.T):# next position is first one\n",
    "                h = 0  \n",
    "            \n",
    "            if count == len(self.T):  #if i == m \n",
    "                return False\n",
    "        \n",
    "        return False  #if self.T[h] == None (NIL)\n",
    "            \n",
    "        \n",
    "    \n",
    "    def delete(self, key):\n",
    "        # TODO\n",
    "        h = (self.hash(key))  \n",
    "        count = 0\n",
    "        while  self.T[h] != None:  #simulate a search (or lookup)\n",
    "            if self.T[h] == key: #if i find the key, i set it == 'D'\n",
    "                self.T[h] = 'D'\n",
    "                self.n_keys-=1  #decrement n. of keys\n",
    "                #return h  #return J in pseudocode: return the position of deleted key\n",
    "            \n",
    "            h+=1   #increment the probe\n",
    "            count+= 1 # keep track of probes\n",
    "            \n",
    "            if h == len(self.T):\n",
    "                h = 0\n",
    "            \n",
    "            if count == len(self.T):  #i could also write h == ..\n",
    "                return False\n",
    "        return False\n",
    "        \n",
    "    \n",
    "    def hash(self, key):  #regular hash function\n",
    "        return ((self.a*key + self.b) % self.prime) % len(self.T)\n",
    "    \n",
    "    def len(self):\n",
    "        return self.n_keys"
   ]
  },
  {
   "cell_type": "code",
   "execution_count": 7,
   "metadata": {},
   "outputs": [],
   "source": [
    "## Test your implementation\n",
    "\n",
    "n = 10000\n",
    "\n",
    "a = get_random_array(n, n)\n",
    "\n",
    "queries = get_random_array(n, n)\n",
    "\n",
    "lp_set = linear_probing_set(2*n)\n",
    "std_set = set()\n",
    "\n",
    "for key in a:\n",
    "    lp_set.insert(key)\n",
    "    std_set.add(key)\n",
    "\n",
    "assert len(std_set) == lp_set.len(), \"Fail len!\"     \n",
    "    \n",
    "for key in a:\n",
    "    assert lp_set.lookup(key) == True, \"Lookup fail a\"\n",
    "\n",
    "for key in queries:\n",
    "    assert lp_set.lookup(key) == (key in std_set), \"Lookup fail queries\"\n",
    "    \n",
    "for key in a[:300]:\n",
    "    lp_set.delete(key)\n",
    "    try:\n",
    "        std_set.remove(key)\n",
    "    except:\n",
    "        pass # the key has been already removed\n",
    "          \n",
    "    assert lp_set.lookup(key) == (key in std_set), \"Lookup fail delete\"   "
   ]
  },
  {
   "cell_type": "markdown",
   "metadata": {},
   "source": [
    "If we end space in our table, we double the size of the table (create a new table with twice the n of entries) and start removing elements in out set into new table. this is done scnaning old table and try inserting them into new table.\n",
    "By doubling the space, we ansure that we don't spend too much time into rebuilding hash table. This is because we do a rebuilding every time we double n of elements in the table.\n",
    "This approach is used in any implementation of dynamic arrays in which we append at the end."
   ]
  },
  {
   "cell_type": "code",
   "execution_count": 14,
   "metadata": {},
   "outputs": [
    {
     "name": "stdout",
     "output_type": "stream",
     "text": [
      "31.5 ms ± 3.28 ms per loop (mean ± std. dev. of 7 runs, 10 loops each)\n",
      "3.5 ms ± 586 µs per loop (mean ± std. dev. of 7 runs, 100 loops each)\n"
     ]
    }
   ],
   "source": [
    "%timeit for key in queries: lp_set.lookup(key)\n",
    "    \n",
    "%timeit for key in queries: key in std_set"
   ]
  },
  {
   "cell_type": "markdown",
   "metadata": {},
   "source": [
    "----\n",
    "### Hashing with Chains\n",
    "Instead of just storing the elements in the slots in the table $T$, let every slot be a list which contains all the elements which are in the table and map to that slot. Our operations now become:\n",
    "\n",
    "- `Insert` $(k)$: hash $k$ to an index $i$ in the table. You may want to check if $k$ is already in the set first.\n",
    "- `Lookup` $(k)$: search for $k$ in the list by iterating through all the list.\n",
    "- `Delete` $(k)$: search for $k$ and then remove it from the list.\n",
    "\n",
    "Lookup and Delete takes $O(s)$ time where $s$ is the size of the list. We define $\\alpha = \\frac{n}{m}$ as the **load factor**. If we assume simple uniform hashing, then each element has equal probability to go into any slot. So after $n$ independent elements have been inserted we have and expected length of $\\frac{n}{m} = \\alpha$ for each chain by linearity of expectation. So the run time of all the above operations is time to hash + time to do these operations which is $O(1 + \\alpha)$.\n",
    "\n",
    "![alt text](Chaining.gif \"Example\")"
   ]
  },
  {
   "cell_type": "markdown",
   "metadata": {},
   "source": [
    "### Exercise: Hashing with Chains\n",
    "Complete the implementation below by implementing ```Lookup``` and ```Delete```."
   ]
  },
  {
   "cell_type": "code",
   "execution_count": 17,
   "metadata": {},
   "outputs": [
    {
     "data": {
      "text/plain": [
       "[2, 3, 4]"
      ]
     },
     "execution_count": 17,
     "metadata": {},
     "output_type": "execute_result"
    }
   ],
   "source": [
    "l = [1,2,3,4]\n",
    "l.pop(0)\n",
    "l"
   ]
  },
  {
   "cell_type": "code",
   "execution_count": 1,
   "metadata": {},
   "outputs": [],
   "source": [
    "## Your implementation goes here\n",
    "\n",
    "class chaining_set:\n",
    "    def __init__(self, size):\n",
    "        \n",
    "        self.T = []\n",
    "        for _ in range(size):\n",
    "            self.T.append([]) \n",
    "        ## why not self.T = [[]] * size ? answer:this is a list of lists,\n",
    "        #invece noi \n",
    "        #vogliamo una lista per ogni slot\n",
    "            \n",
    "        self.prime = 993319\n",
    "        self.a = random.randint(2, self.prime-1)\n",
    "        self.b = random.randint(2, self.prime-1)\n",
    "        self.n_keys = 0\n",
    "        \n",
    "    def insert(self, key):\n",
    "        if self.lookup(key):  #check if k is already in the set\n",
    "            return\n",
    "        \n",
    "        h = self.hash(key)\n",
    "        self.T[h].append(key)  #simply insert at the head or tail  --> linked lists\n",
    "        self.n_keys += 1\n",
    "    \n",
    "    # return True if key is in the set, False otherwise\n",
    "    def lookup(self, key):\n",
    "        # TODO\n",
    "        i = (self.hash(key))\n",
    "        \n",
    "        for K in self.T[i]: #scan lista in puntatore. This takes linear time in worst case\n",
    "            if K == key:\n",
    "                return True\n",
    "        return False\n",
    "        \n",
    "      \n",
    "        \n",
    "    def delete(self, key):\n",
    "        # TODO\n",
    "        i = self.hash(key)\n",
    "        for j  in range(len(self.T[i])):#inside of the list     10,11,12\n",
    "            if self.T[i][j] == key:# i = slot (where list is), j = key (horizontal)\n",
    "                self.T[i][j], self.T[i][-1] = self.T[i][-1], self.T[i][j]\n",
    "                self.T[i].pop() ###########\n",
    "                self.n_keys-=1\n",
    "               \n",
    "                return  #non trova la chiave da cancellare, it finishes the elements, or it find the key\n",
    "\n",
    "            \n",
    "    def hash(self, key):\n",
    "        return ((self.a*key + self.b) % self.prime) % len(self.T)\n",
    "    \n",
    "    def len(self):\n",
    "        return self.n_keys"
   ]
  },
  {
   "cell_type": "code",
   "execution_count": 9,
   "metadata": {},
   "outputs": [],
   "source": [
    "a = [2,3,5,9]\n",
    "ch = chaining_set(1000)\n",
    "for key in a:\n",
    "    ch.insert(key)\n",
    "    "
   ]
  },
  {
   "cell_type": "code",
   "execution_count": 10,
   "metadata": {},
   "outputs": [],
   "source": [
    "ch.delete(2)"
   ]
  },
  {
   "cell_type": "code",
   "execution_count": 14,
   "metadata": {},
   "outputs": [
    {
     "data": {
      "text/plain": [
       "[1, 2, 3]"
      ]
     },
     "execution_count": 14,
     "metadata": {},
     "output_type": "execute_result"
    }
   ],
   "source": [
    "L = [1,2,3,4]\n",
    "L.pop()\n",
    "L"
   ]
  },
  {
   "cell_type": "code",
   "execution_count": 26,
   "metadata": {},
   "outputs": [],
   "source": [
    "## Test your implementation\n",
    "\n",
    "n = 10000\n",
    "\n",
    "a = get_random_array(n, n)\n",
    "\n",
    "queries = get_random_array(n, n)\n",
    "\n",
    "c_set = chaining_set(2*n)\n",
    "std_set = set()\n",
    "\n",
    "for key in a:\n",
    "    c_set.insert(key)\n",
    "    std_set.add(key)\n",
    "\n",
    "assert len(std_set) == c_set.len(), \"Fail len!\"     \n",
    "    \n",
    "for key in a:\n",
    "    assert c_set.lookup(key) == True, \"Lookup fail a\"\n",
    "  \n",
    "for key in queries:\n",
    "    assert c_set.lookup(key) == (key in std_set), \"Lookup fail queries\"\n",
    "    \n",
    "for key in a[:300]:\n",
    "    c_set.delete(key)\n",
    "    try:\n",
    "        std_set.remove(key)\n",
    "    except:\n",
    "        pass # the key has been already removed\n",
    "          \n",
    "    assert c_set.lookup(key) == (key in std_set), \"Lookup fail delete\"  "
   ]
  },
  {
   "cell_type": "code",
   "execution_count": 24,
   "metadata": {},
   "outputs": [
    {
     "name": "stdout",
     "output_type": "stream",
     "text": [
      "25.6 ms ± 3.97 ms per loop (mean ± std. dev. of 7 runs, 10 loops each)\n",
      "2.83 ms ± 419 µs per loop (mean ± std. dev. of 7 runs, 100 loops each)\n"
     ]
    }
   ],
   "source": [
    "%timeit for key in queries: c_set.lookup(key)\n",
    "    \n",
    "%timeit for key in queries: key in std_set"
   ]
  },
  {
   "cell_type": "markdown",
   "metadata": {},
   "source": [
    "----\n",
    "\n",
    "### Exercise: Dictionary\n",
    "Modify the previous code to implement a dictionary, i.e., store a value together with each key. \n",
    "You need to implement methods:\n",
    "- ```Insert(key, value)```: insert the key with its value. If the key was already present, change its value;\n",
    "- ```Delete(key)```: remove the key;\n",
    "- ```Lookup(key)```: return True if the key is present, False otherwise;\n",
    "- ```Value(key)```: return the value associated with the key. It returns None, if the key is not present.\n",
    "\n",
    "I suggest to store pairs (key, value) within the lists.\n",
    "\n",
    "\n",
    "**Optional**. \n",
    "Implement ```keys()```, ```values()```, and ```items()``` which allows you to iterate over keys, values, and pairs (key, value) respectively. You have to use ```yield``` to implement each generator.  "
   ]
  },
  {
   "cell_type": "markdown",
   "metadata": {},
   "source": [
    "#### Utilizzando Hashing with chains"
   ]
  },
  {
   "cell_type": "code",
   "execution_count": 20,
   "metadata": {},
   "outputs": [],
   "source": [
    "#todo\n",
    "class dictionary:\n",
    "    def __init__(self, size):\n",
    "        self.T = []\n",
    "        for _ in range(size):\n",
    "            self.T.append([])\n",
    "            \n",
    "        self.prime = 993319\n",
    "        self.a = random.randint(2, self.prime-1)\n",
    "        self.b = random.randint(2, self.prime-1)\n",
    "        self.n_keys = 0\n",
    "        \n",
    "    def Insert(self, key, value):\n",
    "        h = self.hash(key)\n",
    "        key_exists = False  \n",
    "            \n",
    "        for i in range(len(self.T[h])):\n",
    "            if self.T[h][i][0] == key:\n",
    "                key_exists = True  #ossia se già abbiamo la chiave (primo elemento della tupla), va sostituita\n",
    "                self.T[h][i] = (key, value)\n",
    "                break\n",
    "                \n",
    "        if  key_exists == False:\n",
    "            self.T[h].append((key, value))\n",
    "            self.n_keys+=1\n",
    "        \n",
    "    def Lookup(self, key):\n",
    "        h = self.hash(key)\n",
    "        for K, value in self.T[h]:  #('Gloria', 22)\n",
    "            if key == K:\n",
    "                return True\n",
    "        return False\n",
    "    \n",
    "    def Delete(self, key):\n",
    "        h = self.hash(key)\n",
    "        for i in range(len(self.T[h])):\n",
    "           \n",
    "            if self.T[h][i][0] == key:  #access the key (first element)\n",
    "                self.T[h][i], self.T[h][-1] = self.T[h][-1], self.T[h][i] #instead of popping here, otherwise the idnexes get changed\n",
    "                self.T[h].pop()\n",
    "                self.n_keys-= 1\n",
    "                break #finiamo qui dopo pop \n",
    "                \n",
    "    def Value(self, key):\n",
    "        h = self.hash(key)\n",
    "        for K, value in self.T[h]:  #tuple ('Gloria', 22)\n",
    "            if K == key:\n",
    "                return value\n",
    "        return None\n",
    "    \n",
    "    def hash(self, key):\n",
    "        return ((self.a*key + self.b) % self.prime) % len(self.T)\n",
    "    \n",
    "    def len(self):\n",
    "        return self.n_keys"
   ]
  },
  {
   "cell_type": "code",
   "execution_count": 32,
   "metadata": {},
   "outputs": [],
   "source": [
    "C = get_random_array(10,10)\n",
    "V = get_random_array(10,100)\n",
    "b = list(zip(C,V))\n",
    "D = dictionary(200)\n",
    "for key, value in b:\n",
    "    D.Insert(key, value)"
   ]
  },
  {
   "cell_type": "code",
   "execution_count": 33,
   "metadata": {},
   "outputs": [],
   "source": [
    "for key in C:\n",
    "    assert D.Lookup(key) == True, \"Lookup fail key\""
   ]
  },
  {
   "cell_type": "code",
   "execution_count": 25,
   "metadata": {},
   "outputs": [
    {
     "data": {
      "text/plain": [
       "False"
      ]
     },
     "execution_count": 25,
     "metadata": {},
     "output_type": "execute_result"
    }
   ],
   "source": [
    "D.Lookup(1)"
   ]
  },
  {
   "cell_type": "code",
   "execution_count": 3,
   "metadata": {},
   "outputs": [
    {
     "data": {
      "text/plain": [
       "[(1, 6), (5, 3), (2, 7)]"
      ]
     },
     "execution_count": 3,
     "metadata": {},
     "output_type": "execute_result"
    }
   ],
   "source": [
    "a = list(zip((1,5,2),(6,3,7)))  #chiavi, valori\n",
    "a"
   ]
  },
  {
   "cell_type": "code",
   "execution_count": 26,
   "metadata": {},
   "outputs": [],
   "source": [
    "## Write here some tests to test your implementation\n",
    "## Test your implementation\n",
    "\n",
    "n = 10000\n",
    "\n",
    "chiavi = get_random_array(n, n)\n",
    "valori = get_random_array(n, n)\n",
    "a = list(zip(chiavi, valori))\n",
    "\n",
    "kq = get_random_array(n,n)\n",
    "vq = get_random_array(n,n)\n",
    "query = list(zip(kq,vq))\n",
    "\n",
    "dic= dictionary(2*n)\n",
    "std_dic = {}\n",
    "\n",
    "for key, value in a:\n",
    "    dic.Insert(key, value)\n",
    "    \n",
    "for key, value in a:\n",
    "    std_dic[key] = value\n",
    "\n",
    "assert len(std_dic) == dic.len(), \"Fail len!\"     \n",
    "    \n",
    "for key in chiavi:\n",
    "    assert dic.Lookup(key) == True, \"Lookup fail key\"\n",
    "\n",
    "for key in kq:\n",
    "    assert dic.Lookup(key) == (key in std_dic), \"Lookup fail queries\"\n",
    "    \n",
    "for key in chiavi[:300]:\n",
    "    dic.Delete(key)\n",
    "    std_dic.pop(key, None)\n",
    "    assert dic.Lookup(key) == (key in std_dic), 'Lookup fail delete'\n",
    "          \n",
    "for key in kq:\n",
    "    assert dic.Value(key) == std_dic.get(key), 'Value fail queries'"
   ]
  },
  {
   "cell_type": "code",
   "execution_count": null,
   "metadata": {},
   "outputs": [],
   "source": []
  }
 ],
 "metadata": {
  "kernelspec": {
   "display_name": "Python 3",
   "language": "python",
   "name": "python3"
  },
  "language_info": {
   "codemirror_mode": {
    "name": "ipython",
    "version": 3
   },
   "file_extension": ".py",
   "mimetype": "text/x-python",
   "name": "python",
   "nbconvert_exporter": "python",
   "pygments_lexer": "ipython3",
   "version": "3.8.3"
  },
  "latex_envs": {
   "LaTeX_envs_menu_present": true,
   "autoclose": false,
   "autocomplete": true,
   "bibliofile": "biblio.bib",
   "cite_by": "apalike",
   "current_citInitial": 1,
   "eqLabelWithNumbers": true,
   "eqNumInitial": 1,
   "hotkeys": {
    "equation": "Ctrl-E",
    "itemize": "Ctrl-I"
   },
   "labels_anchors": false,
   "latex_user_defs": false,
   "report_style_numbering": false,
   "user_envs_cfg": false
  },
  "varInspector": {
   "cols": {
    "lenName": 16,
    "lenType": 16,
    "lenVar": 40
   },
   "kernels_config": {
    "python": {
     "delete_cmd_postfix": "",
     "delete_cmd_prefix": "del ",
     "library": "var_list.py",
     "varRefreshCmd": "print(var_dic_list())"
    },
    "r": {
     "delete_cmd_postfix": ") ",
     "delete_cmd_prefix": "rm(",
     "library": "var_list.r",
     "varRefreshCmd": "cat(var_dic_list()) "
    }
   },
   "types_to_exclude": [
    "module",
    "function",
    "builtin_function_or_method",
    "instance",
    "_Feature"
   ],
   "window_display": false
  }
 },
 "nbformat": 4,
 "nbformat_minor": 4
}
