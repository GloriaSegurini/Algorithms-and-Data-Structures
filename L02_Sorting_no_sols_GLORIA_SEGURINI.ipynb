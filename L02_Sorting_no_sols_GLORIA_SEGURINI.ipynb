{
 "cells": [
  {
   "cell_type": "markdown",
   "metadata": {},
   "source": [
    "## Advanced Sorting Algorithms: QuickSort and Merge Sort"
   ]
  },
  {
   "cell_type": "code",
   "execution_count": 7,
   "metadata": {},
   "outputs": [],
   "source": [
    "## Define some function useful for testing\n",
    "import random\n",
    "\n",
    "## generate an array of n random integers up to 10000\n",
    "def get_random_array(n):\n",
    "    return [random.randint(0, 10000) for _ in range(n)]\n",
    "\n",
    "def test_sorting_algorithm(algorithm):\n",
    "    for _ in range(100):\n",
    "        A = get_random_array(random.randint(0, 1000))\n",
    "        A_sorted = algorithm(A)\n",
    "        if A_sorted != sorted(A):\n",
    "            print(A)\n",
    "        assert A_sorted == sorted(A), \"FAIL!\"\n",
    "        \n",
    "# testing testing function\n",
    "test_sorting_algorithm(sorted)"
   ]
  },
  {
   "cell_type": "markdown",
   "metadata": {},
   "source": [
    "## QuickSort \n",
    "\n",
    "Quicksort is a divide-and-conquer algorithm. It works by selecting a 'pivot' element from the array and partitioning the other elements into two sub-arrays, according to whether they are less than or greater than the pivot. The sub-arrays are then sorted recursively. This can be done **in-place**, requiring small additional amounts of memory to perform the sorting.\n",
    "\n",
    "Thus, the most important part of QuickSort is its partition algorithm. \n",
    "Given a pivot element, the partition algorithm splits a subarray into three parts.\n",
    "\n",
    "- Elements that are smaller than or equal to the pivot\n",
    "- The pivot\n",
    "- Elements that are greater than or equal to the pivot\n",
    "\n",
    "The algorithm works in-place, i.e., it performs the partition within the subarray itself without any extra space."
   ]
  },
  {
   "cell_type": "markdown",
   "metadata": {},
   "source": [
    "![alt text](partition_algorithm.png \"Partition: pseudocode\")"
   ]
  },
  {
   "cell_type": "markdown",
   "metadata": {},
   "source": [
    "![alt text](partition_figure.png \"Figure\")"
   ]
  },
  {
   "cell_type": "markdown",
   "metadata": {},
   "source": [
    "![alt text](partition_running_example.png \"Title\")"
   ]
  },
  {
   "cell_type": "markdown",
   "metadata": {},
   "source": [
    "### Exercise: binary vector\n",
    "You are given a binary vector, i.e., each element is either 0 or 1. Implements an easy variant of partition to sort the vector."
   ]
  },
  {
   "cell_type": "markdown",
   "metadata": {},
   "source": [
    "***Linear***"
   ]
  },
  {
   "cell_type": "code",
   "execution_count": 32,
   "metadata": {},
   "outputs": [],
   "source": [
    "import random \n",
    "\n",
    "binary = [random.randint(0,1) for _ in range(20)]"
   ]
  },
  {
   "cell_type": "code",
   "execution_count": 33,
   "metadata": {},
   "outputs": [],
   "source": [
    "## Your implementation goes here\n",
    "def my_Partition (l, first, last):\n",
    "    l_new = []\n",
    "    for num in l:\n",
    "        l_new.append(num)   #create a new list for allowing any kind of collection \n",
    "   \n",
    "    i = first - 1\n",
    "    for j in range(first, last):\n",
    "        if l_new[j] == 0:  #same as Quicksort, but more specific\n",
    "            i+=1\n",
    "            l_new[i], l_new[j] = l_new[j], l_new[i]\n",
    "    l_new[i+1], l_new[last] = l_new[last], l_new[i+1]\n",
    "    return l_new"
   ]
  },
  {
   "cell_type": "code",
   "execution_count": 35,
   "metadata": {},
   "outputs": [
    {
     "name": "stdout",
     "output_type": "stream",
     "text": [
      "[1, 1, 1, 0, 1, 0, 1, 0, 1, 1, 1, 0, 0, 0, 0, 1, 0, 0, 1, 0]\n"
     ]
    },
    {
     "data": {
      "text/plain": [
       "[0, 0, 0, 0, 0, 0, 0, 0, 0, 0, 1, 1, 1, 1, 1, 1, 1, 1, 1, 1]"
      ]
     },
     "execution_count": 35,
     "metadata": {},
     "output_type": "execute_result"
    }
   ],
   "source": [
    "print(binary)\n",
    "my_Partition(binary, 0, len(binary)-1)"
   ]
  },
  {
   "cell_type": "markdown",
   "metadata": {},
   "source": [
    "### Exercise: QuickSort\n",
    "Below an implementation of QuickSort. \n",
    "\n",
    "In this exercise you have to:\n",
    "- Write detailed comments to describe crucial parts of the code below (to prove you have understand it)\n",
    "- Implement a random selection of the pivot element"
   ]
  },
  {
   "cell_type": "code",
   "execution_count": 3,
   "metadata": {},
   "outputs": [],
   "source": [
    "def partition(A, low, high): \n",
    "    pivot = A[high] #at the first iteration, our pivot is the last element and this is crucial (could have been first eelement, also)\n",
    "    i = low-1       # at the beginning, i points one position before j, so that\n",
    "    #at the next iteration ...(see next comments)\n",
    "  \n",
    "    for j in range(low, high):       #from p to r (in pseudocode) --> this takes theta(n)!\n",
    "        if A[j] <= pivot:            #compares the j-th element with pivot and it is <= pivot, we increment i\n",
    "            i = i+1                  #increment i in order to point the correct element\n",
    "            A[i], A[j] = A[j], A[i]  #swap\n",
    "            \n",
    "#ex. if we have 2,5,6,4: it takes the pivot (4) and compares 2 with 4: j starts at position 0, while i starts at position\n",
    "#(-1). Since we enter the if statement, i is incremented and the resulting swaps is now actually not visible: we swapped\n",
    "#2 with 2. Despite this, this is crucial in order to store the right position for the pointers: when it touches 5, j = 1\n",
    "# and i = 1, because we don't enter the if statement. Same for 6: we increment j, but not i.\n",
    "\n",
    "\n",
    "            \n",
    "    A[i+1], A[high] = A[high], A[i+1] #In this way, when we SWAP, i+1 = 1 (new pivot's position), so that elements are\n",
    "    #sorted w.r.t pivot --> 2,[4],5,6\n",
    "    \n",
    "    return i+1                        #return the index of the pivot, so that we partition recursively"
   ]
  },
  {
   "cell_type": "code",
   "execution_count": 4,
   "metadata": {},
   "outputs": [],
   "source": [
    "def quickSort_rec(A, low, high):\n",
    "    if low < high:                     #if the lenght of the array is at least 1 (if p < r in pseudocode, so that\n",
    "        #when we have a subarray of size 1, we don't enter the if statement)\n",
    "        pi = partition(A, low, high)   #pi takes the new position (i+1)\n",
    "        quickSort_rec(A, low, pi-1)    #recursive call on the left part (elements <= pivot)\n",
    "        quickSort_rec(A, pi+1, high)   #recursive call on the right part (elements > pivot)\n",
    "\n",
    "#we go recursively until low == high (this depends on the pivot's position)\n",
    "#thanks to recursion everything is already sorted: algorithm is in place."
   ]
  },
  {
   "cell_type": "code",
   "execution_count": 5,
   "metadata": {},
   "outputs": [],
   "source": [
    "def quickSort(B):\n",
    "    A = B[:] # Copy the array just because we decided to return a sorted copy of the original array \n",
    "    quickSort_rec(A, 0, len(A) - 1)\n",
    "    return A"
   ]
  },
  {
   "cell_type": "code",
   "execution_count": 6,
   "metadata": {},
   "outputs": [
    {
     "data": {
      "text/plain": [
       "[1, 2, 3, 4]"
      ]
     },
     "execution_count": 6,
     "metadata": {},
     "output_type": "execute_result"
    }
   ],
   "source": [
    "quickSort([2, 1, 4, 3])"
   ]
  },
  {
   "cell_type": "code",
   "execution_count": 9,
   "metadata": {},
   "outputs": [],
   "source": [
    "test_sorting_algorithm(quickSort)"
   ]
  },
  {
   "cell_type": "markdown",
   "metadata": {},
   "source": [
    "###### Random Pivot"
   ]
  },
  {
   "cell_type": "code",
   "execution_count": 4,
   "metadata": {},
   "outputs": [],
   "source": [
    "def partition_random_pivot(A, low, high):\n",
    "    index = random.randint(low, high)\n",
    "    \n",
    "\n",
    "    stored = A[high]     \n",
    "    A[high], A[index] = A[index], stored   \n",
    "    \n",
    "    pivot = A[high]     #pivot is now the last element\n",
    "    \n",
    "    i = low - 1\n",
    "    for j in range(low, high):\n",
    "            \n",
    "        if A[j] <= pivot: \n",
    "            i = i+1    \n",
    "             \n",
    "            A[i], A[j] = A[j], A[i] #step by step i guarantee that elements are sorted according to pivot (left and right)\n",
    "           \n",
    "    A[i+1], A[high] = A[high], A[i+1] \n",
    "    return i+1"
   ]
  },
  {
   "cell_type": "code",
   "execution_count": 5,
   "metadata": {},
   "outputs": [],
   "source": [
    "def quickSort_rec(A, low, high):\n",
    "    if low < high:                     #if the lenght of the array is at least 1\n",
    "        pi = partition_random_pivot(A, low, high) \n",
    "        quickSort_rec(A, low, pi-1)    #recursive call on the left part. here is the loop invariant: index i is the last position of\n",
    "                                       #elements <= pivot. After, we have elements > pivot\n",
    "        quickSort_rec(A, pi+1, high)"
   ]
  },
  {
   "cell_type": "code",
   "execution_count": 6,
   "metadata": {},
   "outputs": [],
   "source": [
    "def quickSort(B):\n",
    "    A = B[:] # Copy the array just because we decided to return a sorted copy of the original array \n",
    "    quickSort_rec(A, 0, len(A) - 1)\n",
    "    return A"
   ]
  },
  {
   "cell_type": "code",
   "execution_count": 8,
   "metadata": {},
   "outputs": [],
   "source": [
    "test_sorting_algorithm(quickSort)"
   ]
  },
  {
   "cell_type": "markdown",
   "metadata": {},
   "source": [
    "## Let's do some experiments\n",
    "\n",
    "Is QuickSort faster than InsertionSort and SelectionSort in practice?"
   ]
  },
  {
   "cell_type": "markdown",
   "metadata": {},
   "source": [
    "T(n) = T(n-1) + D(n) + C(n)\n",
    "#quicksort = T(n-1) + Theta(n) + c(constant: costs nothing)\n",
    "#worst case --> theta(n^2)\n",
    "#T(n) = 2T(n/2) + c*n --> worst case (come merge sort)\n",
    "#Theta (nlog n ) best case\n",
    "\n",
    "#selecting the good guy is much better than selecting the bad one. so, is there a way to select a good pivot? \n",
    "#just select a random one, what's the prob of selecting a good guy? 50%!, because  half of the element are good and half are bad.\n",
    "#if it's a bad guy, no problem, with 50% prob we're selecting the good guy in th ìe next call, so the effect of calling the bad guy in the first call is calceled out\n",
    "#if we have 3 pivot, the best thing is to compare them and make the median"
   ]
  },
  {
   "cell_type": "code",
   "execution_count": 1,
   "metadata": {},
   "outputs": [],
   "source": [
    "def insertionSort(coll):\n",
    "    A = list(coll)\n",
    "    for i in range(1, len(A)):\n",
    "        curr = A[i]\n",
    "        j = i-1\n",
    "        while j >= 0 and curr < A[j]:\n",
    "            A[j+1] = A[j]\n",
    "            j -= 1\n",
    "        A[j+1] = curr\n",
    "    return A"
   ]
  },
  {
   "cell_type": "code",
   "execution_count": 2,
   "metadata": {},
   "outputs": [],
   "source": [
    "def selectionSort(coll):\n",
    "    A = list(coll)\n",
    "    for i in range(len(A)): \n",
    "        # Find the minimum element in remaining unsorted array \n",
    "        min_idx = i \n",
    "        for j in range(i+1, len(A)): \n",
    "            if A[min_idx] > A[j]: \n",
    "                min_idx = j \n",
    "\n",
    "        # Swap the found minimum element with  \n",
    "        # the first element         \n",
    "        A[i], A[min_idx] = A[min_idx], A[i]\n",
    "    return A"
   ]
  },
  {
   "cell_type": "code",
   "execution_count": 36,
   "metadata": {},
   "outputs": [],
   "source": [
    "A = get_random_array(1000)"
   ]
  },
  {
   "cell_type": "code",
   "execution_count": 37,
   "metadata": {},
   "outputs": [
    {
     "name": "stdout",
     "output_type": "stream",
     "text": [
      "2.44 ms ± 52.6 µs per loop (mean ± std. dev. of 7 runs, 100 loops each)\n"
     ]
    }
   ],
   "source": [
    "%timeit quickSort(A)"
   ]
  },
  {
   "cell_type": "code",
   "execution_count": 38,
   "metadata": {},
   "outputs": [
    {
     "name": "stdout",
     "output_type": "stream",
     "text": [
      "50.7 ms ± 1.17 ms per loop (mean ± std. dev. of 7 runs, 10 loops each)\n"
     ]
    }
   ],
   "source": [
    "%timeit insertionSort(A)"
   ]
  },
  {
   "cell_type": "code",
   "execution_count": 39,
   "metadata": {},
   "outputs": [
    {
     "name": "stdout",
     "output_type": "stream",
     "text": [
      "50.7 ms ± 4.79 ms per loop (mean ± std. dev. of 7 runs, 10 loops each)\n"
     ]
    }
   ],
   "source": [
    "%timeit selectionSort(A)"
   ]
  },
  {
   "cell_type": "markdown",
   "metadata": {},
   "source": [
    "### More than 30x faster with arrays of length 1000. \n",
    "\n",
    "Try to run the experiments with an array of 10000. **Run insertion sort and selection sort just before you go to sleep.** "
   ]
  },
  {
   "cell_type": "markdown",
   "metadata": {},
   "source": [
    "### Let's see how time changes by increasing the length of the array"
   ]
  },
  {
   "cell_type": "code",
   "execution_count": 41,
   "metadata": {},
   "outputs": [
    {
     "name": "stdout",
     "output_type": "stream",
     "text": [
      "1.59 µs ± 99 ns per loop (mean ± std. dev. of 7 runs, 1000000 loops each)\n",
      "925 ns ± 24.3 ns per loop (mean ± std. dev. of 7 runs, 1000000 loops each)\n",
      "1.5 µs ± 70.5 ns per loop (mean ± std. dev. of 7 runs, 1000000 loops each)\n",
      "4.04 µs ± 59.3 ns per loop (mean ± std. dev. of 7 runs, 100000 loops each)\n",
      "2.06 µs ± 38.5 ns per loop (mean ± std. dev. of 7 runs, 1000000 loops each)\n",
      "3.14 µs ± 58.2 ns per loop (mean ± std. dev. of 7 runs, 100000 loops each)\n",
      "8.88 µs ± 149 ns per loop (mean ± std. dev. of 7 runs, 100000 loops each)\n",
      "4.36 µs ± 205 ns per loop (mean ± std. dev. of 7 runs, 100000 loops each)\n",
      "7.45 µs ± 201 ns per loop (mean ± std. dev. of 7 runs, 100000 loops each)\n",
      "19.8 µs ± 678 ns per loop (mean ± std. dev. of 7 runs, 10000 loops each)\n",
      "19.8 µs ± 589 ns per loop (mean ± std. dev. of 7 runs, 100000 loops each)\n",
      "20.1 µs ± 1.15 µs per loop (mean ± std. dev. of 7 runs, 10000 loops each)\n",
      "37.5 µs ± 641 ns per loop (mean ± std. dev. of 7 runs, 10000 loops each)\n",
      "61 µs ± 850 ns per loop (mean ± std. dev. of 7 runs, 10000 loops each)\n",
      "59.9 µs ± 3.43 µs per loop (mean ± std. dev. of 7 runs, 10000 loops each)\n",
      "91.3 µs ± 4.94 µs per loop (mean ± std. dev. of 7 runs, 10000 loops each)\n",
      "310 µs ± 60.9 µs per loop (mean ± std. dev. of 7 runs, 1000 loops each)\n",
      "207 µs ± 8.27 µs per loop (mean ± std. dev. of 7 runs, 1000 loops each)\n",
      "246 µs ± 53.6 µs per loop (mean ± std. dev. of 7 runs, 1000 loops each)\n",
      "705 µs ± 25.8 µs per loop (mean ± std. dev. of 7 runs, 1000 loops each)\n",
      "757 µs ± 12.8 µs per loop (mean ± std. dev. of 7 runs, 1000 loops each)\n",
      "491 µs ± 16.8 µs per loop (mean ± std. dev. of 7 runs, 1000 loops each)\n",
      "2.89 ms ± 76.1 µs per loop (mean ± std. dev. of 7 runs, 100 loops each)\n",
      "2.93 ms ± 65 µs per loop (mean ± std. dev. of 7 runs, 100 loops each)\n",
      "1.21 ms ± 19.8 µs per loop (mean ± std. dev. of 7 runs, 1000 loops each)\n",
      "12.4 ms ± 278 µs per loop (mean ± std. dev. of 7 runs, 100 loops each)\n",
      "12.3 ms ± 374 µs per loop (mean ± std. dev. of 7 runs, 100 loops each)\n",
      "2.85 ms ± 59 µs per loop (mean ± std. dev. of 7 runs, 100 loops each)\n",
      "55.5 ms ± 1.24 ms per loop (mean ± std. dev. of 7 runs, 10 loops each)\n",
      "56.4 ms ± 6.61 ms per loop (mean ± std. dev. of 7 runs, 10 loops each)\n"
     ]
    }
   ],
   "source": [
    "qs_t = []\n",
    "is_t = []\n",
    "ss_t = []\n",
    "\n",
    "lens = [2**i for i in range(1, 11)]\n",
    "\n",
    "for n in lens:\n",
    "    A = get_random_array(n)\n",
    "    result = %timeit -o quickSort(A)\n",
    "    qs_t.append( result.best )\n",
    "    result = %timeit -o insertionSort(A)\n",
    "    is_t.append( result.best )\n",
    "    result = %timeit -o selectionSort(A)\n",
    "    ss_t.append( result.best )"
   ]
  },
  {
   "cell_type": "code",
   "execution_count": 21,
   "metadata": {},
   "outputs": [
    {
     "name": "stderr",
     "output_type": "stream",
     "text": [
      "UsageError: unrecognized arguments: # any cell within the notebook that creates a plot will embed a PNG image of the resulting graphic\n"
     ]
    }
   ],
   "source": [
    "import matplotlib.pyplot as plt # standard way to import\n",
    "\n",
    "%matplotlib inline # any cell within the notebook that creates a plot will embed a PNG image of the resulting graphic\n",
    "plt.rcParams[\"figure.figsize\"] = (20,10)\n",
    "plt.style.use('ggplot')"
   ]
  },
  {
   "cell_type": "code",
   "execution_count": 42,
   "metadata": {},
   "outputs": [
    {
     "data": {
      "image/png": "[encoded data removed]",
      "text/plain": [
       "<Figure size 432x288 with 1 Axes>"
      ]
     },
     "metadata": {
      "needs_background": "light"
     },
     "output_type": "display_data"
    }
   ],
   "source": [
    "fig = plt.figure()\n",
    "ax = fig.add_subplot(1, 1, 1)\n",
    "\n",
    "ax.plot(lens, qs_t, \"g--\", label=\"QuickSort\")\n",
    "ax.plot(lens, is_t, \"r--\", label=\"InsertionSort\")\n",
    "ax.plot(lens, ss_t, \"b--\", label=\"SelectionSort\")\n",
    "\n",
    "_ = ax.legend(loc=\"best\")"
   ]
  },
  {
   "cell_type": "markdown",
   "metadata": {},
   "source": [
    "## Merge Sort\n",
    "Merge Sort is an efficient, general-purpose, comparison-based sorting algorithm. Most implementations produce a **stable sort**, which means that the order of equal elements is the same in the input and output. \n",
    "\n",
    "Merge sort is a divide and conquer algorithm that was invented by John von Neumann in 1945.\n",
    "\n",
    "Below a running example."
   ]
  },
  {
   "cell_type": "markdown",
   "metadata": {},
   "source": [
    "![alt text](mergesort_figure.png \"Title\")"
   ]
  },
  {
   "cell_type": "markdown",
   "metadata": {},
   "source": [
    "### Exercise: Merge Sort\n",
    "Complete the implementation of Merge Sort by implementing function ```merge()```."
   ]
  },
  {
   "cell_type": "code",
   "execution_count": 10,
   "metadata": {},
   "outputs": [],
   "source": [
    "## Your implementation goes here\n",
    "\n",
    "def merge(A, l, m, r): \n",
    "    N1 = m - l + 1\n",
    "    N2 = r - m\n",
    "    #l'algoritmo non è in place, in quanto non sappiamo DOVE si trova il\n",
    "    #minimo, quindi dobbiamo inserire 2 liste per tenere i valori \"stored\"\n",
    "    \n",
    "    Left = [0 for i in range (N1)]\n",
    "    Right = [0 for i in range (N2)]\n",
    "        \n",
    "    for i in range(N1):\n",
    "        Left[i] = A[l + i] #copia di l - m\n",
    "    for j in range(N2):\n",
    "        Right[j] = A[m + j + 1]  #copia di m - r\n",
    "        \n",
    "    leftpointer = 0\n",
    "    rightpointer = 0\n",
    "    A_pointer = l\n",
    "    while leftpointer < len(Left) and rightpointer < len(Right):\n",
    "        if Left[leftpointer] <= Right[rightpointer]:\n",
    "            A[A_pointer] = Left[leftpointer] #copyvaluesback\n",
    "            leftpointer+= 1\n",
    "            A_pointer+=1\n",
    "        else:\n",
    "            A[A_pointer] = Right[rightpointer]\n",
    "            rightpointer+=1\n",
    "            A_pointer+=1\n",
    "            \n",
    "    #in order not to use sentinells we have to use 2 more while loops\n",
    "    while rightpointer < len(Right): #just if left part ha esaurito gli elementi \n",
    "        A[A_pointer] = Right[rightpointer]\n",
    "        rightpointer+=1\n",
    "        A_pointer+=1\n",
    "        \n",
    "    while leftpointer < len(Left):\n",
    "        A[A_pointer] = Left[leftpointer]\n",
    "        leftpointer+=1\n",
    "        A_pointer+=1"
   ]
  },
  {
   "cell_type": "code",
   "execution_count": 11,
   "metadata": {},
   "outputs": [],
   "source": [
    "def mergeSort_rec(A, l, r): \n",
    "    if len(A) <= 1: #base case, posso avere lista vuota\n",
    "        return A\n",
    "    \n",
    "    if l < r:       \n",
    "        m = (l+(r-1))//2  # Same as (l+r)//2, but avoids overflow for large l and h \n",
    "    \n",
    "        # Sort first and second halves \n",
    "        mergeSort_rec(A, l, m) \n",
    "        mergeSort_rec(A, m+1, r) \n",
    "        merge(A, l, m, r)\n",
    "    return A"
   ]
  },
  {
   "cell_type": "code",
   "execution_count": 12,
   "metadata": {},
   "outputs": [
    {
     "data": {
      "text/plain": [
       "[0, 1, 2, 3, 4, 5, 5, 6, 7, 7, 8, 9]"
      ]
     },
     "execution_count": 12,
     "metadata": {},
     "output_type": "execute_result"
    }
   ],
   "source": [
    "A1 = [9,8,7,6,5,4,3,5,7,2,1,0]\n",
    "mergeSort_rec(A1, 0, len(A1)-1 )"
   ]
  },
  {
   "cell_type": "code",
   "execution_count": 13,
   "metadata": {},
   "outputs": [],
   "source": [
    "def mergeSort(B):\n",
    "    A = B[:] # Copy the array just because we decided to return a sorted copy of the original array \n",
    "    mergeSort_rec(A, 0, len(A)-1) #qui ci ho messo -1!!!\n",
    "    return A"
   ]
  },
  {
   "cell_type": "code",
   "execution_count": 14,
   "metadata": {},
   "outputs": [],
   "source": [
    "test_sorting_algorithm(mergeSort)"
   ]
  },
  {
   "cell_type": "code",
   "execution_count": 15,
   "metadata": {},
   "outputs": [],
   "source": [
    "A = get_random_array(10000)"
   ]
  },
  {
   "cell_type": "code",
   "execution_count": 16,
   "metadata": {},
   "outputs": [
    {
     "name": "stdout",
     "output_type": "stream",
     "text": [
      "26.6 ms ± 421 µs per loop (mean ± std. dev. of 7 runs, 10 loops each)\n"
     ]
    }
   ],
   "source": [
    "%timeit quickSort(A)"
   ]
  },
  {
   "cell_type": "code",
   "execution_count": 17,
   "metadata": {},
   "outputs": [
    {
     "name": "stdout",
     "output_type": "stream",
     "text": [
      "78 ms ± 570 µs per loop (mean ± std. dev. of 7 runs, 10 loops each)\n"
     ]
    }
   ],
   "source": [
    "%timeit mergeSort(A)"
   ]
  }
 ],
 "metadata": {
  "kernelspec": {
   "display_name": "Python 3",
   "language": "python",
   "name": "python3"
  },
  "language_info": {
   "codemirror_mode": {
    "name": "ipython",
    "version": 3
   },
   "file_extension": ".py",
   "mimetype": "text/x-python",
   "name": "python",
   "nbconvert_exporter": "python",
   "pygments_lexer": "ipython3",
   "version": "3.8.3"
  },
  "latex_envs": {
   "LaTeX_envs_menu_present": true,
   "autoclose": false,
   "autocomplete": true,
   "bibliofile": "biblio.bib",
   "cite_by": "apalike",
   "current_citInitial": 1,
   "eqLabelWithNumbers": true,
   "eqNumInitial": 1,
   "hotkeys": {
    "equation": "Ctrl-E",
    "itemize": "Ctrl-I"
   },
   "labels_anchors": false,
   "latex_user_defs": false,
   "report_style_numbering": false,
   "user_envs_cfg": false
  },
  "varInspector": {
   "cols": {
    "lenName": 16,
    "lenType": 16,
    "lenVar": 40
   },
   "kernels_config": {
    "python": {
     "delete_cmd_postfix": "",
     "delete_cmd_prefix": "del ",
     "library": "var_list.py",
     "varRefreshCmd": "print(var_dic_list())"
    },
    "r": {
     "delete_cmd_postfix": ") ",
     "delete_cmd_prefix": "rm(",
     "library": "var_list.r",
     "varRefreshCmd": "cat(var_dic_list()) "
    }
   },
   "types_to_exclude": [
    "module",
    "function",
    "builtin_function_or_method",
    "instance",
    "_Feature"
   ],
   "window_display": false
  }
 },
 "nbformat": 4,
 "nbformat_minor": 4
}
