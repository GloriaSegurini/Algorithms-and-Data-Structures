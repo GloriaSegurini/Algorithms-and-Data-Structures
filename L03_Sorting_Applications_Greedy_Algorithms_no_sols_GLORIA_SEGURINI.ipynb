{
 "cells": [
  {
   "cell_type": "markdown",
   "metadata": {},
   "source": [
    "## Sorting Algorithms Application: Greedy Algorithms\n",
    "-------\n",
    "\n",
    "Optimization problems ask you to find a solution which maximizes or minimizes some objective functions. \n",
    "**Greedy algorithms** adopt a natural approach to find a optimal solution.\n",
    "\n",
    "Mentioning Wikipedia:\n",
    "*A greedy algorithm is any algorithm that follows the problem-solving heuristic of making the locally optimal choice at each stage.[1] In many problems, a greedy strategy does not usually produce an optimal solution, but nonetheless, a greedy heuristic may yield locally optimal solutions that approximate a globally optimal solution in a reasonable amount of time.*\n",
    "\n",
    "------"
   ]
  },
  {
   "cell_type": "markdown",
   "metadata": {},
   "source": [
    "### Exercise: Activity Selection Problem\n",
    "Activity selection problem is a problem in which a person has a list of works to do. \n",
    "\n",
    "Each of the activities has a starting time and ending time. \n",
    "\n",
    "We need to schedule the activities in such a way the person can complete a maximum number of activities. \n",
    "\n",
    "Since the timing of the activities  may overlap, so it might not be possible to complete all the activities and thus we need to schedule the activities in such a way that the maximum number of activities can be finished.\n",
    "\n",
    "Consider the following example.\n",
    "![alt text](activity_table.png \"Example\")\n",
    "\n",
    "A valid selection is activities 1 and 3. Hoverver, an optimal one is 2, 5, 1.\n",
    "\n",
    "We can illustrate the problem by drawing each activity as a rectangle whose left\n",
    "and right $x$-coordinates show the start and finish times. The goal is to find a\n",
    "largest subset of rectangles that do not overlap vertically.\n",
    "\n",
    "![alt text](activity.png \"Example\")"
   ]
  },
  {
   "cell_type": "markdown",
   "metadata": {},
   "source": [
    "There is an easy **Greedy algorithm** (you'll learn more in theory lectures soon) to find an optimal solution.\n",
    "\n",
    "- Sort activities by finishing time;\n",
    "- Iterate over the activities and select any activity that does not conflict with the previously selected ones.\n",
    "\n",
    "The algorithm runs in $\\Theta(n\\log n)$ time.\n",
    "\n",
    "Your goal is to implement and test this algorithm.\n",
    "\n",
    "Intuitively, we’d like the first activity to finish as early as possible,\n",
    "because that leaves us with the most remaining activities.\n",
    "\n",
    "If this greedy strategy works, it suggests the following very simple\n",
    "algorithm. Scan through the activities in order of finish time; whenever you\n",
    "encounter a activity that doesn’t conflict with your latest activity so far, take it!\n",
    "\n",
    "The above algorithm runs in $\\Theta(n\\log n)$ time.\n",
    "\n",
    "To prove that this algorithm actually gives us a maximal conflict-free selection, we use an\n",
    "*exchange argument*.\n",
    "\n",
    "We are not claiming that the greedy selection is the only maximal selection; there could be others, e.g., see figure above.\n",
    "\n",
    "All we can claim is that at least one of the maximal selections is the one that the\n",
    "greedy algorithm produces.\n",
    "\n",
    "**Lemma** \n",
    "*At least one maximal conflict-free selection includes the activity that finishes first.*\n",
    "\n",
    "The proof is as follows. \n",
    "\n",
    "- Let $f$ be the activity that finishes first. Suppose we have a maximal conflict-free selection $X$ that does not include $f$.\n",
    "\n",
    "- Let $g$ be the first activity in $X$ to finish.\n",
    "\n",
    "- Since $f$ finishes before $g$ does, $f$ cannot conflict with any activity in the set $X \\setminus \\{g\\}$.\n",
    "\n",
    "- Thus, the selection $X' = X \\cup \\{f\\} \\setminus \\{g\\}$ is also conflict-free.\n",
    "\n",
    "- Since $X'$ has the same size as $X$, it is also maximal.\n",
    "\n",
    "\n",
    "We use induction to complete the proof.\n",
    "\n",
    "**Lemma** \n",
    "*The greedy selection is an optimal selection.*\n",
    "\n",
    "The proof is as follows.\n",
    "\n",
    "- Let $f$ be the activity that finishes first, and let $L$ be the subset of activities the start after $f$ finishes.\n",
    "\n",
    "- The previous lemma implies that some optimal selection contains $f$, so the best selection that contains $f$ is an optimal selection.\n",
    "\n",
    "- The best selection that includes $f$ must contain an optimal selection for the activities that do not conflict with $f$, that is, an optimal selection for $L$.\n",
    "\n",
    "- The greedy algorithm chooses $f$ and then, by the inductive hypothesis, computes an optimal selection of activities from $L$.\n",
    "\n",
    "**This is a general proof approach** The basic structure of this correctness proof is an inductive exchange argument which applies to several other problems. \n",
    "\n",
    "- Assume that there is an optimal solution that is different from the greedy solution.\n",
    "- Find the ``first'' difference between the two solutions.\n",
    "- Argue that we can exchange the optimal choice for the greedy choice without degrading the solution.\n",
    "\n",
    "This argument implies by induction that some optimal solution that contains the entire greedy solution, and therefore equals the greedy solution.\n",
    "\n",
    "-----"
   ]
  },
  {
   "cell_type": "code",
   "execution_count": null,
   "metadata": {},
   "outputs": [],
   "source": [
    "#1: select actibity that starts first\n",
    "(0,5) (1,2) (2,3) (3,4)\n",
    "#we first select (0,5) and since it's very long, this kills the other 3\n",
    "#you can increase the gap. There is always an example for which the solution we find is very big\n",
    "\n",
    "# 2: select the shortest activitiesfirst\n",
    "(0,2) (2,4) #optimal solution. can you kill the optimal solution by adding another very short activity?\n",
    "(0,3) (3,6) (2,4)\n",
    "\n",
    "#select activities with less overlap: select activities that end first"
   ]
  },
  {
   "cell_type": "code",
   "execution_count": null,
   "metadata": {},
   "outputs": [],
   "source": [
    "#1 sort act by ending time: (0,2), (1,3), act 5(3,4), act4(1,6), act1(4,6)\n",
    "#2 select act that do not overlap: first(0,2), (3,4), (4,6)\n",
    "\n",
    "#prove this is always the optimal solution: exchange argument; no matter what the instance is. there is always\n",
    "#an optimal solution which selects the activity that finishes first\n",
    "#poi, induction: take your instance: remove this activity together with all the others that overlap with it\n",
    "#so the activity that ends first in that subset is selected with at least 1 optimal solution"
   ]
  },
  {
   "cell_type": "code",
   "execution_count": null,
   "metadata": {},
   "outputs": [],
   "source": [
    "         |---g----|    |-------|   |-------| O*\n",
    "    |---f-----|     #remove activities in O* which overlap with f: if we insert f, the first activity may overlap with f\n",
    "    #but since f is the first to end, f cannot overlap with any other activity in O*, otherwise it would end after g and this would contraddict that f is the first to end\n",
    "   #remove g from O* and find replace g with f (nota che il numero di act è sempre 3) \n",
    "    #prove that for any istance that is at least 1 opt solution that includes the first activity to end\n",
    "    #the selection after the sorting must take linear time: check if it overlaps with the first one"
   ]
  },
  {
   "cell_type": "markdown",
   "metadata": {},
   "source": [
    "**You goal**: implement the above solution to find the optimal selection from a list of activities, where each activity is a pair."
   ]
  },
  {
   "cell_type": "code",
   "execution_count": 1,
   "metadata": {},
   "outputs": [],
   "source": [
    "act = [(1,3), (3,4), (2,5), (0,7), (5,9), (8,10), (11,12)]\n",
    "\n",
    "def activity_selection_problem(act):\n",
    "    solution = []\n",
    "    sort = sorted(act, key=lambda x:x[1])  #sort in the basis of element [1] of the tuple (finishing time)\n",
    "    for element in sort:\n",
    "        if len(solution) == 0:  \n",
    "            #print('len == 0')\n",
    "            solution.append(element)   #it starts with (1,3)\n",
    "            continue     #da (1,3) a (3,4)\n",
    "        #print(solution)\n",
    "        if element[0] >= solution[-1][1]: #se l'attività ha starting time \n",
    "            #>= finish time della previously selected act\n",
    "            solution.append(element)\n",
    "            \n",
    "\n",
    "    return solution"
   ]
  },
  {
   "cell_type": "code",
   "execution_count": 4,
   "metadata": {},
   "outputs": [
    {
     "name": "stdout",
     "output_type": "stream",
     "text": [
      "[(1, 2), (3, 4), (5, 7), (8, 9)]\n",
      "[(1, 3), (3, 4), (5, 9), (11, 12)]\n"
     ]
    }
   ],
   "source": [
    "## Test Your implementation here\n",
    "act1 = [(1,2), (3,4), (0,6), (5,7), (8,9), (5,9)]\n",
    "print(activity_selection_problem(act1))\n",
    "print(activity_selection_problem(act))"
   ]
  },
  {
   "cell_type": "code",
   "execution_count": 3,
   "metadata": {},
   "outputs": [],
   "source": [
    "# Test\n",
    "def assert_activity(activities, result):\n",
    "    assert activity_selection_problem (activities) == result, 'FAIL'"
   ]
  },
  {
   "cell_type": "code",
   "execution_count": 33,
   "metadata": {},
   "outputs": [
    {
     "name": "stdout",
     "output_type": "stream",
     "text": [
      "[(1, 3), (3, 4), (2, 5), (0, 7), (5, 9), (8, 10), (11, 12)]\n"
     ]
    }
   ],
   "source": [
    "print(sorted(act, key=lambda x:x[1]))"
   ]
  },
  {
   "cell_type": "code",
   "execution_count": 36,
   "metadata": {},
   "outputs": [],
   "source": [
    "activities = [(4,6), (0,2), (1,3), (1,6), (3,4)]\n",
    "result = [(0,2), (3,4), (4,6)]\n",
    "assert_activity(activities, result)"
   ]
  },
  {
   "cell_type": "code",
   "execution_count": 37,
   "metadata": {},
   "outputs": [],
   "source": [
    "result_1 = [(1, 3), (3, 4), (5, 9), (11, 12)]\n",
    "assert_activity(act,result_1 )"
   ]
  },
  {
   "cell_type": "code",
   "execution_count": 41,
   "metadata": {},
   "outputs": [
    {
     "data": {
      "text/plain": [
       "[(0, 2), (3, 4), (3, 5), (7, 9), (5, 9), (10, 12), (11, 12)]"
      ]
     },
     "execution_count": 41,
     "metadata": {},
     "output_type": "execute_result"
    }
   ],
   "source": [
    "prova2 = [(0,2), (3,4), (3,5), (7,9), (5,9), (10,12), (11,12)]\n",
    "sort2 = sorted(prova2, key=lambda x:x[1])\n",
    "sort2"
   ]
  },
  {
   "cell_type": "markdown",
   "metadata": {},
   "source": [
    "---\n",
    "\n",
    "### Exercise: Fractional Knapsack Problem\n",
    "\n",
    "![alt text](knapsack.png \"Example\")\n",
    "\n",
    "*We are given $n$ items. Each item $i$ has a value $v_i$ and a weight $w_i$. We need put a subset of these items in a knapsack of capacity $W$ to get the maximum total value in the knapsack.*\n",
    "\n",
    "This is a very popular [problem](https://en.wikipedia.org/wiki/Knapsack_problem).\n",
    "\n",
    "In the 0-1 Knapsack problem, we are not allowed to break items. We either take the whole item or do not take it.\n",
    "\n",
    "In Fractional Knapsack, we can break items for maximizing the total value of knapsack.\n",
    "\n",
    "\n",
    "As an example, consider three items: $v = \\{ 60, 100, 120\\}$ and $w = \\{10, 20, 30\\}$ and a knapsack of capacity $W = 50$.\n",
    "\n",
    "The maximum possible value is $240$ obtained by taking full items of $10$ and $20$ and $2/3$rd of last item of $30$.\n",
    "\n",
    "An efficient solution to find an optimal selection is to use the greedy approach.\n",
    "\n",
    "The basic idea of greedy approach is to calculate the ratio value/weight for each item and sort items in decreasing order of this ratio. Then, we take the item with highest ratio and add them until we cannot add the next item as whole and at the end add the next item as much as we can.\n",
    "\n",
    "This strategy always obtains an optimal solution of this problem.\n",
    "\n",
    "To see why associate a rectangle to each item. The rectangle of item $i$ has a\n",
    "base of size $w_i$ and a height of size $v_i$. The diagonal of this rectangle\n",
    "is a segment of slope $v_i/w_i$.\n",
    "\n",
    "Consider now any selection of items whose total weight equals $W$.\n",
    "\n",
    "We can sort the selected items in order of their ratio and draw the diagonals of their rectangles, one after the other.\n",
    "\n",
    "There cannot exist any assignment whose drawn is above the one of the greedy selection.\n",
    "\n",
    "![alt text](knapsack_proof.png \"Example of proof\")\n",
    "\n",
    "Instead, 0-1 Knapsack problem is NP-Hard."
   ]
  },
  {
   "cell_type": "code",
   "execution_count": 26,
   "metadata": {},
   "outputs": [
    {
     "data": {
      "text/plain": [
       "10"
      ]
     },
     "execution_count": 26,
     "metadata": {},
     "output_type": "execute_result"
    }
   ],
   "source": [
    "weight-capacity\n",
    "120:30=x:(W-weight)\n",
    "x = (120*(W-weight)) /30"
   ]
  },
  {
   "cell_type": "markdown",
   "metadata": {},
   "source": [
    "**Your goal:**\n",
    "Write a function ```fractional_knapsack(L,W)``` which takes a list L of pairs *(value, weight)* and the capacity $W$ and returns maximum possible value we can obtain by selecting items.  "
   ]
  },
  {
   "cell_type": "code",
   "execution_count": 11,
   "metadata": {},
   "outputs": [],
   "source": [
    "## Your implementation goes here\n",
    "L = [(60, 10), (100,20), (120,30)]\n",
    "\n",
    "#I have to respect a certain max W and I want to maximize value_max (knapsack's value)\n",
    "def fractional_knapsack(L,W):\n",
    "    value_max = 0\n",
    "    for value, weight in sorted(L, key=lambda x:x[1]/x[0]):  #occhio! 1,0, poiché l'ordine è reversed. Order by the max unitary value, but reversed\n",
    "        if weight > W:\n",
    "            value_max+= (value*W)/weight   #120:30=x:(W iniziale-weight = W che mi è rimasto)\n",
    "                                        #x = (120*(W-weight)) /weight, ossia: quanto valore dell' item posso inserire?\n",
    "            W = 0   #stop\n",
    "        elif weight <= W:\n",
    "            value_max+= value\n",
    "            W-= weight\n",
    "        \n",
    "    return value_max "
   ]
  },
  {
   "cell_type": "code",
   "execution_count": 8,
   "metadata": {},
   "outputs": [
    {
     "name": "stdout",
     "output_type": "stream",
     "text": [
      "[(30, 5), (40, 10), (90, 25), (77, 22), (45, 15)]\n"
     ]
    }
   ],
   "source": [
    "L = [(30, 5), (40, 10), (45, 15), (77, 22), (90, 25)]\n",
    "print(sorted(L, key=lambda x:x[1]/x[0]))"
   ]
  },
  {
   "cell_type": "code",
   "execution_count": 12,
   "metadata": {},
   "outputs": [],
   "source": [
    "## Test your implementation here\n",
    "\n",
    "L = [(60, 10), (100, 20), (120, 30)]\n",
    "\n",
    "assert fractional_knapsack(L, 50) == 240.0, \"Fail!\"\n",
    "\n",
    "L = [(30, 5), (40, 10), (45, 15), (77, 22), (90, 25)]\n",
    "\n",
    "assert fractional_knapsack(L, 60) == 230.0, \"Fail!\"\n",
    "\n",
    "assert fractional_knapsack(L, 15) == 70.0,  \"Fail!\"\n",
    "\n",
    "assert fractional_knapsack(L, 10) == 50.0,  \"Fail!\""
   ]
  },
  {
   "cell_type": "code",
   "execution_count": null,
   "metadata": {},
   "outputs": [],
   "source": []
  }
 ],
 "metadata": {
  "kernelspec": {
   "display_name": "Python 3",
   "language": "python",
   "name": "python3"
  },
  "language_info": {
   "codemirror_mode": {
    "name": "ipython",
    "version": 3
   },
   "file_extension": ".py",
   "mimetype": "text/x-python",
   "name": "python",
   "nbconvert_exporter": "python",
   "pygments_lexer": "ipython3",
   "version": "3.8.3"
  },
  "latex_envs": {
   "LaTeX_envs_menu_present": true,
   "autoclose": false,
   "autocomplete": true,
   "bibliofile": "biblio.bib",
   "cite_by": "apalike",
   "current_citInitial": 1,
   "eqLabelWithNumbers": true,
   "eqNumInitial": 1,
   "hotkeys": {
    "equation": "Ctrl-E",
    "itemize": "Ctrl-I"
   },
   "labels_anchors": false,
   "latex_user_defs": false,
   "report_style_numbering": false,
   "user_envs_cfg": false
  },
  "varInspector": {
   "cols": {
    "lenName": 16,
    "lenType": 16,
    "lenVar": 40
   },
   "kernels_config": {
    "python": {
     "delete_cmd_postfix": "",
     "delete_cmd_prefix": "del ",
     "library": "var_list.py",
     "varRefreshCmd": "print(var_dic_list())"
    },
    "r": {
     "delete_cmd_postfix": ") ",
     "delete_cmd_prefix": "rm(",
     "library": "var_list.r",
     "varRefreshCmd": "cat(var_dic_list()) "
    }
   },
   "types_to_exclude": [
    "module",
    "function",
    "builtin_function_or_method",
    "instance",
    "_Feature"
   ],
   "window_display": false
  }
 },
 "nbformat": 4,
 "nbformat_minor": 4
}
